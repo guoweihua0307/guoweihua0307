{
  "nbformat": 4,
  "nbformat_minor": 0,
  "metadata": {
    "colab": {
      "provenance": [],
      "authorship_tag": "ABX9TyPMUTErPWIDdx/U/DjsFibT",
      "include_colab_link": true
    },
    "kernelspec": {
      "name": "python3",
      "display_name": "Python 3"
    },
    "language_info": {
      "name": "python"
    }
  },
  "cells": [
    {
      "cell_type": "markdown",
      "metadata": {
        "id": "view-in-github",
        "colab_type": "text"
      },
      "source": [
        "<a href=\"https://colab.research.google.com/github/guoweihua0307/guoweihua0307/blob/main/o1.ipynb\" target=\"_parent\"><img src=\"https://colab.research.google.com/assets/colab-badge.svg\" alt=\"Open In Colab\"/></a>"
      ]
    },
    {
      "cell_type": "code",
      "source": [
        "pip install requests"
      ],
      "metadata": {
        "colab": {
          "base_uri": "https://localhost:8080/"
        },
        "id": "LFK6WCt5hhEY",
        "outputId": "6a54a7c0-49cd-4a5d-bb98-4998e9bafe8b"
      },
      "execution_count": 45,
      "outputs": [
        {
          "output_type": "stream",
          "name": "stdout",
          "text": [
            "Requirement already satisfied: requests in /usr/local/lib/python3.10/dist-packages (2.31.0)\n",
            "Requirement already satisfied: charset-normalizer<4,>=2 in /usr/local/lib/python3.10/dist-packages (from requests) (3.2.0)\n",
            "Requirement already satisfied: idna<4,>=2.5 in /usr/local/lib/python3.10/dist-packages (from requests) (3.4)\n",
            "Requirement already satisfied: urllib3<3,>=1.21.1 in /usr/local/lib/python3.10/dist-packages (from requests) (2.0.4)\n",
            "Requirement already satisfied: certifi>=2017.4.17 in /usr/local/lib/python3.10/dist-packages (from requests) (2023.7.22)\n"
          ]
        }
      ]
    },
    {
      "cell_type": "code",
      "source": [
        "pip install beautifulsoup4"
      ],
      "metadata": {
        "colab": {
          "base_uri": "https://localhost:8080/"
        },
        "id": "zRRDn41HhiRA",
        "outputId": "54818dcc-7423-4316-bc1d-04c508f58b0a"
      },
      "execution_count": 46,
      "outputs": [
        {
          "output_type": "stream",
          "name": "stdout",
          "text": [
            "Requirement already satisfied: beautifulsoup4 in /usr/local/lib/python3.10/dist-packages (4.11.2)\n",
            "Requirement already satisfied: soupsieve>1.2 in /usr/local/lib/python3.10/dist-packages (from beautifulsoup4) (2.4.1)\n"
          ]
        }
      ]
    },
    {
      "cell_type": "code",
      "execution_count": 47,
      "metadata": {
        "id": "qrQDZs-Fa1g3"
      },
      "outputs": [],
      "source": [
        "import requests"
      ]
    },
    {
      "cell_type": "code",
      "source": [
        "from bs4 import BeautifulSoup"
      ],
      "metadata": {
        "id": "e5ownfQXbAmK"
      },
      "execution_count": 48,
      "outputs": []
    },
    {
      "cell_type": "code",
      "source": [
        "from datetime import datetime"
      ],
      "metadata": {
        "id": "aaIQXIxkbD5T"
      },
      "execution_count": 49,
      "outputs": []
    },
    {
      "cell_type": "code",
      "source": [
        "def crawl_obituary():\n",
        "    # 定义目标Obituary页面的URL\n",
        "    url = \"https://www.nytimes.com/international/section/obituaries\"\n",
        "\n",
        "    # 使用requests库发送GET请求，获取页面响应\n",
        "    response = requests.get(url)\n",
        "\n",
        "    # 使用BeautifulSoup库解析响应的HTML文本\n",
        "    soup = BeautifulSoup(response.text, \"html.parser\")\n",
        "\n",
        "    # 获取页面中所有的Obituary信息\n",
        "    # 这里假设每个Obituary信息的HTML标签为\"div\"，类名为\"obituary\"\n",
        "    obituaries = soup.find_all(\"div\", class_=\"obituary\")\n",
        "\n",
        "    # 按照Obituary的发布时间进行排序，这里假设发布时间的标签为\"span\"，类名为\"publish-time\"\n",
        "    sorted_obituaries = sorted(obituaries, key=lambda x: get_publish_time(x))\n",
        "\n",
        "    with open(r\"D:\\obituaries\\obituary.txt\", \"w\") as file:  # 保存在D:\\obituaries目录下\n",
        "      for obituary in sorted_obituaries:\n",
        "        file.write(get_obituary_info(obituary) + \"\\n\")\n",
        "\n",
        "    # 输出\"爬取完成！\"的消息\n",
        "    print(\"爬取完成！\")"
      ],
      "metadata": {
        "id": "hbq4My5qbJiu"
      },
      "execution_count": 50,
      "outputs": []
    },
    {
      "cell_type": "code",
      "source": [
        "def get_publish_time(obituary):\n",
        "    # 获取发布时间的标签，这里假设标签为\"span\"，类名为\"publish-time\"\n",
        "    time_str = obituary.find(\"span\", class_=\"publish-time\").text\n",
        "\n",
        "    # 将发布时间的字符串转换为datetime对象，格式为\"%Y-%m-%d %H:%M:%S\"\n",
        "    return datetime.strptime(time_str, \"%Y-%m-%d %H:%M:%S\")"
      ],
      "metadata": {
        "id": "TZEctB49bPVK"
      },
      "execution_count": 51,
      "outputs": []
    },
    {
      "cell_type": "code",
      "source": [
        "def get_obituary_info(obituary):\n",
        "    # 获取Obituary的名称标签，这里假设标签为\"h2\"\n",
        "    name = obituary.find(\"h2\").text\n",
        "\n",
        "    # 获取Obituary的年龄标签，这里假设标签为\"span\"，类名为\"age\"\n",
        "    age = obituary.find(\"span\", class_=\"age\").text\n",
        "\n",
        "    # 获取Obituary的地点标签，这里假设标签为\"span\"，类名为\"location\"\n",
        "    location = obituary.find(\"span\", class_=\"location\").text\n",
        "\n",
        "    # 将Obituary的信息格式化为字符串，并返回该字符串\n",
        "    return f\"Name: {name}, Age: {age}, Location: {location}\""
      ],
      "metadata": {
        "id": "GXMUGbAZbStR"
      },
      "execution_count": 52,
      "outputs": []
    },
    {
      "cell_type": "code",
      "source": [
        "def preview_or_download():\n",
        "    # 从用户输入中获取预览或下载口令，这里假设口令为\"preview\"或\"download\"\n",
        "    choice = input(\"请输入预览或下载口令（preview/download）：\")\n",
        "\n",
        "    # 根据用户输入的口令执行相应的操作\n",
        "    if choice == \"preview\":\n",
        "        # 打开TXT文档，并打印文档内容到控制台\n",
        "        with open(\"obituary.txt\", \"r\") as file:\n",
        "            print(file.read())\n",
        "    elif choice == \"download\":\n",
        "        # 输出下载链接到控制台，这里需要替换为实际的下载链接\n",
        "        print(\"下载链接：file:///D:/obituaries/obituary.txt\")\n",
        "    else:\n",
        "        # 如果输入的口令不是\"preview\"或\"download\"，则输出无效口令的消息\n",
        "        print(\"无效的口令！\")"
      ],
      "metadata": {
        "id": "F8kW-AQmbW92"
      },
      "execution_count": 53,
      "outputs": []
    },
    {
      "cell_type": "code",
      "source": [
        "def run_spider():\n",
        "    crawl_obituary()\n",
        "    preview_or_download()"
      ],
      "metadata": {
        "id": "WESs5fpbba1z"
      },
      "execution_count": 54,
      "outputs": []
    },
    {
      "cell_type": "code",
      "source": [
        "run_spider()"
      ],
      "metadata": {
        "colab": {
          "base_uri": "https://localhost:8080/"
        },
        "id": "hmn-_Ss_prkP",
        "outputId": "8d86bfbe-3a0a-4cea-9891-24265d0c01e6"
      },
      "execution_count": 59,
      "outputs": [
        {
          "output_type": "stream",
          "name": "stdout",
          "text": [
            "爬取完成！\n",
            "请输入预览或下载口令（preview/download）：download\n",
            "下载链接：file:///D:/obituaries/obituary.txt\n"
          ]
        }
      ]
    },
    {
      "cell_type": "code",
      "source": [],
      "metadata": {
        "id": "Cy5U4-xeplfo"
      },
      "execution_count": null,
      "outputs": []
    }
  ]
}