{
  "nbformat": 4,
  "nbformat_minor": 0,
  "metadata": {
    "colab": {
      "provenance": [],
      "authorship_tag": "ABX9TyPOm91eI/1dymFxHIRfJuPj",
      "include_colab_link": true
    },
    "kernelspec": {
      "name": "python3",
      "display_name": "Python 3"
    },
    "language_info": {
      "name": "python"
    }
  },
  "cells": [
    {
      "cell_type": "markdown",
      "metadata": {
        "id": "view-in-github",
        "colab_type": "text"
      },
      "source": [
        "<a href=\"https://colab.research.google.com/github/guoweihua0307/guoweihua0307/blob/main/Untitled2.ipynb\" target=\"_parent\"><img src=\"https://colab.research.google.com/assets/colab-badge.svg\" alt=\"Open In Colab\"/></a>"
      ]
    },
    {
      "cell_type": "code",
      "execution_count": 5,
      "metadata": {
        "colab": {
          "base_uri": "https://localhost:8080/"
        },
        "id": "Xhu9_RO3DZy2",
        "outputId": "4151a3b9-4c62-4461-899b-9399f67bc449"
      },
      "outputs": [
        {
          "output_type": "stream",
          "name": "stdout",
          "text": [
            "Requirement already satisfied: requests in /usr/local/lib/python3.10/dist-packages (2.31.0)\n",
            "Requirement already satisfied: charset-normalizer<4,>=2 in /usr/local/lib/python3.10/dist-packages (from requests) (3.2.0)\n",
            "Requirement already satisfied: idna<4,>=2.5 in /usr/local/lib/python3.10/dist-packages (from requests) (3.4)\n",
            "Requirement already satisfied: urllib3<3,>=1.21.1 in /usr/local/lib/python3.10/dist-packages (from requests) (2.0.4)\n",
            "Requirement already satisfied: certifi>=2017.4.17 in /usr/local/lib/python3.10/dist-packages (from requests) (2023.7.22)\n",
            "Requirement already satisfied: python-docx in /usr/local/lib/python3.10/dist-packages (0.8.11)\n",
            "Requirement already satisfied: lxml>=2.3.2 in /usr/local/lib/python3.10/dist-packages (from python-docx) (4.9.3)\n"
          ]
        }
      ],
      "source": [
        "!pip install requests\n",
        "!pip install python-docx\n",
        "\n",
        "import requests\n",
        "from bs4 import BeautifulSoup\n",
        "import os\n",
        "from docx import Document\n",
        "from docx.shared import Inches\n",
        "\n",
        "# 定义保存数据的列表\n",
        "data = []\n",
        "\n",
        "# 定义搜索的关键词\n",
        "keyword = '讣告'\n",
        "\n",
        "# 发送搜索请求并获取网页数据\n",
        "url = f'https://www.obituare.com/'  # 替换为实际的搜索网站URL\n",
        "response = requests.get(url)\n",
        "html = response.text\n",
        "\n",
        "# 解析网页数据\n",
        "soup = BeautifulSoup(html, 'lxml')\n",
        "items = soup.find_all('div', class_='article')  # 根据实际的HTML结构调整解析方式\n",
        "for item in items:\n",
        "    # 获取所需的数据并格式化\n",
        "    post_date = item.find('span', class_='post-meta').text.strip()\n",
        "    name = item.find('h1').text.strip()\n",
        "    gender = '男' if item.find('img', alt='先生').parent.text.strip() == '先生' else '女'\n",
        "    birth_date = item.find('p', class_='birth').text.strip()\n",
        "    death_date = item.find('p', class_='death').text.strip()\n",
        "    funeral_date = item.find('p', class_='funeral').text.strip()\n",
        "    story = ' '.join(item.find('p', class_='story').text.split())\n",
        "    achievements = ' '.join(item.find('p', class_='achievements').text.split())\n",
        "    evaluation = ' '.join(item.find('p', class_='evaluation').text.split())\n",
        "    relatives = ' '.join(item.find('p', class_='relatives').text.split())\n",
        "    publisher = item.find('p', class_='source').text.strip()\n",
        "    data_dict = {\n",
        "        'post_date': post_date,\n",
        "        'name': name,\n",
        "        'gender': gender,\n",
        "        'birth_date': birth_date,\n",
        "        'death_date': death_date,\n",
        "        'funeral_date': funeral_date,\n",
        "        'story': story,\n",
        "        'achievements': achievements,\n",
        "        'evaluation': evaluation,\n",
        "        'relatives': relatives,\n",
        "        'publisher': publisher,\n",
        "    }\n",
        "    data.append(data_dict)\n",
        "\n",
        "# 按照发布日期降序排列数据\n",
        "data = sorted(data, key=lambda x: x['post_date'], reverse=True)\n",
        "\n",
        "# 创建doc文件并写入数据\n",
        "doc = Document()\n",
        "for item in data:\n",
        "    table = doc.add_table(rows=1, cols=len(item))\n",
        "    for col in range(len(item)):\n",
        "        table.cell(0, col).text = item[col]\n",
        "    doc.add_page_break()  # 根据需要添加分页符\n",
        "\n",
        "# 将文件保存到本地\n",
        "file_name = f'obituaries_{keyword}.docx'  # 根据需要修改文件名和路径\n",
        "doc.save(file_name)\n",
        "\n"
      ]
    },
    {
      "cell_type": "code",
      "source": [],
      "metadata": {
        "id": "W89pE7iCD_Aa"
      },
      "execution_count": null,
      "outputs": []
    }
  ]
}
