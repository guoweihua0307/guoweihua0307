{
  "nbformat": 4,
  "nbformat_minor": 0,
  "metadata": {
    "colab": {
      "provenance": [],
      "authorship_tag": "ABX9TyNXWck5G7khCuA8rT+qznIF",
      "include_colab_link": true
    },
    "kernelspec": {
      "name": "python3",
      "display_name": "Python 3"
    },
    "language_info": {
      "name": "python"
    }
  },
  "cells": [
    {
      "cell_type": "markdown",
      "metadata": {
        "id": "view-in-github",
        "colab_type": "text"
      },
      "source": [
        "<a href=\"https://colab.research.google.com/github/guoweihua0307/guoweihua0307/blob/main/fuwen1.ipynb\" target=\"_parent\"><img src=\"https://colab.research.google.com/assets/colab-badge.svg\" alt=\"Open In Colab\"/></a>"
      ]
    },
    {
      "cell_type": "code",
      "source": [
        "!pip install requests\n",
        "!pip install python-docx"
      ],
      "metadata": {
        "colab": {
          "base_uri": "https://localhost:8080/"
        },
        "id": "W89pE7iCD_Aa",
        "outputId": "ad774d8a-bbf5-45db-9138-80c3720e870f"
      },
      "execution_count": 7,
      "outputs": [
        {
          "output_type": "stream",
          "name": "stdout",
          "text": [
            "Requirement already satisfied: requests in /usr/local/lib/python3.10/dist-packages (2.31.0)\n",
            "Requirement already satisfied: charset-normalizer<4,>=2 in /usr/local/lib/python3.10/dist-packages (from requests) (3.2.0)\n",
            "Requirement already satisfied: idna<4,>=2.5 in /usr/local/lib/python3.10/dist-packages (from requests) (3.4)\n",
            "Requirement already satisfied: urllib3<3,>=1.21.1 in /usr/local/lib/python3.10/dist-packages (from requests) (2.0.4)\n",
            "Requirement already satisfied: certifi>=2017.4.17 in /usr/local/lib/python3.10/dist-packages (from requests) (2023.7.22)\n",
            "Requirement already satisfied: python-docx in /usr/local/lib/python3.10/dist-packages (0.8.11)\n",
            "Requirement already satisfied: lxml>=2.3.2 in /usr/local/lib/python3.10/dist-packages (from python-docx) (4.9.3)\n"
          ]
        }
      ]
    },
    {
      "cell_type": "code",
      "source": [
        "import requests\n",
        "from bs4 import BeautifulSoup\n",
        "import os\n",
        "from docx import Document\n",
        "from docx.shared import Inches"
      ],
      "metadata": {
        "id": "Aw8ygSyhGaqy"
      },
      "execution_count": 8,
      "outputs": []
    },
    {
      "cell_type": "code",
      "source": [
        "data = []"
      ],
      "metadata": {
        "id": "Sb5kF-DcGeXO"
      },
      "execution_count": 9,
      "outputs": []
    },
    {
      "cell_type": "code",
      "source": [
        "keyword = '讣告'"
      ],
      "metadata": {
        "id": "CB4cu4h7GmOF"
      },
      "execution_count": 10,
      "outputs": []
    },
    {
      "cell_type": "code",
      "source": [
        "url = f'https://www.bjnews.com.cn//'\n",
        "response = requests.get(url)\n",
        "html = response.text"
      ],
      "metadata": {
        "id": "jCMH5HJUGnJB"
      },
      "execution_count": 11,
      "outputs": []
    },
    {
      "cell_type": "code",
      "source": [
        "soup = BeautifulSoup(html, 'lxml')\n",
        "items = soup.find_all('div', class_='article')\n",
        "for item in items:\n",
        "\n",
        "    post_date = item.find('span', class_='post-meta').text.strip()\n",
        "    name = item.find('h1').text.strip()\n",
        "    gender = '男' if item.find('img', alt='先生').parent.text.strip() == '先生' else '女'\n",
        "    birth_date = item.find('p', class_='birth').text.strip()\n",
        "    death_date = item.find('p', class_='death').text.strip()\n",
        "    funeral_date = item.find('p', class_='funeral').text.strip()\n",
        "    story = ' '.join(item.find('p', class_='story').text.split())\n",
        "    achievements = ' '.join(item.find('p', class_='achievements').text.split())\n",
        "    evaluation = ' '.join(item.find('p', class_='evaluation').text.split())\n",
        "    relatives = ' '.join(item.find('p', class_='relatives').text.split())\n",
        "    publisher = item.find('p', class_='source').text.strip()\n",
        "    data_dict = {\n",
        "        'post_date': post_date,\n",
        "        'name': name,\n",
        "        'gender': gender,\n",
        "        'birth_date': birth_date,\n",
        "        'death_date': death_date,\n",
        "        'funeral_date': funeral_date,\n",
        "        'story': story,\n",
        "        'achievements': achievements,\n",
        "        'evaluation': evaluation,\n",
        "        'relatives': relatives,\n",
        "        'publisher': publisher,\n",
        "    }\n",
        "    data.append(data_dict)"
      ],
      "metadata": {
        "id": "YlaFpMFEGvp8"
      },
      "execution_count": 12,
      "outputs": []
    },
    {
      "cell_type": "code",
      "source": [
        "data = sorted(data, key=lambda x: x['post_date'], reverse=True)"
      ],
      "metadata": {
        "id": "h8BivO03GyZB"
      },
      "execution_count": 13,
      "outputs": []
    },
    {
      "cell_type": "code",
      "source": [
        "doc = Document()\n",
        "for item in data:\n",
        "    table = doc.add_table(rows=1, cols=len(item))\n",
        "    for col in range(len(item)):\n",
        "        table.cell(0, col).text = item[col]\n",
        "    doc.add_page_break()"
      ],
      "metadata": {
        "id": "vyr_RjaXG30t"
      },
      "execution_count": 14,
      "outputs": []
    },
    {
      "cell_type": "code",
      "source": [
        "file_name = f'obituaries_{keyword}.docx'\n",
        "doc.save(file_name)"
      ],
      "metadata": {
        "id": "OwGqo6_aG9bT"
      },
      "execution_count": 15,
      "outputs": []
    }
  ]
}