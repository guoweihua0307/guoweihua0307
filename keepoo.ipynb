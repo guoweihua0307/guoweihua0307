{
  "nbformat": 4,
  "nbformat_minor": 0,
  "metadata": {
    "colab": {
      "provenance": [],
      "include_colab_link": true
    },
    "kernelspec": {
      "name": "python3",
      "display_name": "Python 3"
    },
    "language_info": {
      "name": "python"
    }
  },
  "cells": [
    {
      "cell_type": "markdown",
      "metadata": {
        "id": "view-in-github",
        "colab_type": "text"
      },
      "source": [
        "<a href=\"https://colab.research.google.com/github/guoweihua0307/guoweihua0307/blob/main/keepoo.ipynb\" target=\"_parent\"><img src=\"https://colab.research.google.com/assets/colab-badge.svg\" alt=\"Open In Colab\"/></a>"
      ]
    },
    {
      "cell_type": "code",
      "execution_count": null,
      "metadata": {
        "id": "lwX0zlq0Lue1"
      },
      "outputs": [],
      "source": [
        "# 导入requests库，用于发送HTTP请求\n",
        "import requests\n",
        "\n",
        "# 导入BeautifulSoup库，用于解析HTML页面\n",
        "from bs4 import BeautifulSoup\n",
        "\n",
        "# 导入datetime库，用于处理日期和时间\n",
        "from datetime import datetime\n",
        "\n",
        "# 定义一个名为crawl_obituary的函数，用于爬取Obituary信息\n",
        "def crawl_obituary():\n",
        "    # 定义目标Obituary页面的URL，需要替换为实际的URL\n",
        "    url = \"https://example.com/obituary\"  # 替换为实际的Obituary网址\n",
        "\n",
        "    # 使用requests库发送GET请求，获取页面响应\n",
        "    response = requests.get(url)\n",
        "\n",
        "    # 使用BeautifulSoup库解析响应的HTML文本\n",
        "    soup = BeautifulSoup(response.text, \"html.parser\")\n",
        "\n",
        "    # 获取页面中所有的Obituary信息\n",
        "    # 这里假设每个Obituary信息的HTML标签为\"div\"，类名为\"obituary\"\n",
        "    obituaries = soup.find_all(\"div\", class_=\"obituary\")\n",
        "\n",
        "    # 按照Obituary的发布时间进行排序，这里假设发布时间的标签为\"span\"，类名为\"publish-time\"\n",
        "    sorted_obituaries = sorted(obituaries, key=lambda x: get_publish_time(x))\n",
        "\n",
        "    # 打开一个名为\"obituary.txt\"的TXT文档，并写入排好序的Obituary信息\n",
        "    with open(\"obituary.txt\", \"w\") as file:\n",
        "        for obituary in sorted_obituaries:\n",
        "            file.write(get_obituary_info(obituary) + \"\\n\")\n",
        "\n",
        "    # 输出\"爬取完成！\"的消息\n",
        "    print(\"爬取完成！\")\n",
        "\n",
        "# 定义一个名为get_publish_time的函数，用于获取Obituary的发布时间\n",
        "def get_publish_time(obituary):\n",
        "    # 获取发布时间的标签，这里假设标签为\"span\"，类名为\"publish-time\"\n",
        "    time_str = obituary.find(\"span\", class_=\"publish-time\").text\n",
        "\n",
        "    # 将发布时间的字符串转换为datetime对象，格式为\"%Y-%m-%d %H:%M:%S\"\n",
        "    return datetime.strptime(time_str, \"%Y-%m-%d %H:%M:%S\")\n",
        "\n",
        "# 定义一个名为get_obituary_info的函数，用于获取Obituary的信息\n",
        "def get_obituary_info(obituary):\n",
        "    # 获取Obituary的名称标签，这里假设标签为\"h2\"\n",
        "    name = obituary.find(\"h2\").text\n",
        "\n",
        "    # 获取Obituary的年龄标签，这里假设标签为\"span\"，类名为\"age\"\n",
        "    age = obituary.find(\"span\", class_=\"age\").text\n",
        "\n",
        "    # 获取Obituary的地点标签，这里假设标签为\"span\"，类名为\"location\"\n",
        "    location = obituary.find(\"span\", class_=\"location\").text\n",
        "\n",
        "    # 将Obituary的信息格式化为字符串，并返回该字符串\n",
        "    return f\"Name: {name}, Age: {age}, Location: {location}\"\n",
        "\n",
        "# 定义一个名为preview_or_download的函数，用于弹出预览或下载口令\n",
        "def preview_or_download():\n",
        "    # 从用户输入中获取预览或下载口令，这里假设口令为\"preview\"或\"download\"\n",
        "    choice = input(\"请输入预览或下载口令（preview/download）：\")\n",
        "\n",
        "    # 根据用户输入的口令执行相应的操作\n",
        "    if choice == \"preview\":\n",
        "        # 打开TXT文档，并打印文档内容到控制台\n",
        "        with open(\"obituary.txt\", \"r\") as file:\n",
        "            print(file.read())\n",
        "    elif choice == \"download\":\n",
        "        # 输出下载链接到控制台，这里需要替换为实际的下载链接\n",
        "        print(\"下载链接：https://example.com/obituary.txt\")  # 替换为实际的下载链接\n",
        "    else:\n",
        "        # 如果输入的口令不是\"preview\"或\"download\"，则输出无效口令的消息\n",
        "        print(\"无效的口令！\")\n",
        "\n",
        "# 定义一个名为run_spider的函数"
      ]
    }
  ]
}