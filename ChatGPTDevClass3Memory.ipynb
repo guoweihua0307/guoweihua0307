{
  "cells": [
    {
      "cell_type": "markdown",
      "metadata": {
        "id": "view-in-github",
        "colab_type": "text"
      },
      "source": [
        "<a href=\"https://colab.research.google.com/github/guoweihua0307/guoweihua0307/blob/main/ChatGPTDevClass3Memory.ipynb\" target=\"_parent\"><img src=\"https://colab.research.google.com/assets/colab-badge.svg\" alt=\"Open In Colab\"/></a>"
      ]
    },
    {
      "cell_type": "markdown",
      "id": "a786c77c",
      "metadata": {
        "id": "a786c77c"
      },
      "source": [
        "# LangChain: Memory 给ChatGPT长上记忆\n",
        "\n",
        "## Outline\n",
        "* ConversationBufferMemory\n",
        "* ConversationBufferWindowMemory\n",
        "* ConversationTokenBufferMemory\n",
        "* ConversationSummaryMemory"
      ]
    },
    {
      "cell_type": "markdown",
      "id": "1297dcd5",
      "metadata": {
        "id": "1297dcd5"
      },
      "source": [
        "## ConversationBufferMemory 对话缓冲记忆"
      ]
    },
    {
      "cell_type": "code",
      "source": [
        "!pip install python-dotenv\n",
        "!pip install openai"
      ],
      "metadata": {
        "id": "YdYnlGa5HO54"
      },
      "id": "YdYnlGa5HO54",
      "execution_count": null,
      "outputs": []
    },
    {
      "cell_type": "code",
      "execution_count": null,
      "id": "a1f518f5",
      "metadata": {
        "height": 132,
        "id": "a1f518f5"
      },
      "outputs": [],
      "source": [
        "import os\n",
        "\n",
        "from dotenv import load_dotenv, find_dotenv\n",
        "_ = load_dotenv(find_dotenv()) # read local .env file\n",
        "\n",
        "import warnings\n",
        "warnings.filterwarnings('ignore')"
      ]
    },
    {
      "cell_type": "code",
      "source": [
        "!pip install Langchain"
      ],
      "metadata": {
        "id": "BcjBtmPQHoLh"
      },
      "id": "BcjBtmPQHoLh",
      "execution_count": null,
      "outputs": []
    },
    {
      "cell_type": "code",
      "execution_count": null,
      "id": "20ad6fe2",
      "metadata": {
        "height": 81,
        "id": "20ad6fe2"
      },
      "outputs": [],
      "source": [
        "from langchain.chat_models import ChatOpenAI\n",
        "from langchain.chains import ConversationChain\n",
        "from langchain.memory import ConversationBufferMemory\n"
      ]
    },
    {
      "cell_type": "code",
      "execution_count": null,
      "id": "88bdf13d",
      "metadata": {
        "height": 132,
        "id": "88bdf13d"
      },
      "outputs": [],
      "source": [
        "llm = ChatOpenAI(temperature=0.0)\n",
        "memory = ConversationBufferMemory()\n",
        "conversation = ConversationChain(\n",
        "    llm=llm,\n",
        "    memory = memory,\n",
        "    verbose=True\n",
        ")"
      ]
    },
    {
      "cell_type": "code",
      "execution_count": null,
      "id": "db24677d",
      "metadata": {
        "height": 30,
        "colab": {
          "base_uri": "https://localhost:8080/",
          "height": 278
        },
        "id": "db24677d",
        "outputId": "41add3ff-c0a9-43a9-c1ff-c1f23ca20817"
      },
      "outputs": [
        {
          "output_type": "stream",
          "name": "stdout",
          "text": [
            "\n",
            "\n",
            "\u001b[1m> Entering new ConversationChain chain...\u001b[0m\n",
            "Prompt after formatting:\n",
            "\u001b[32;1m\u001b[1;3mThe following is a friendly conversation between a human and an AI. The AI is talkative and provides lots of specific details from its context. If the AI does not know the answer to a question, it truthfully says it does not know.\n",
            "\n",
            "Current conversation:\n",
            "\n",
            "Human: 你好，我是庞博士\n",
            "AI:\u001b[0m\n",
            "\n",
            "\u001b[1m> Finished chain.\u001b[0m\n"
          ]
        },
        {
          "output_type": "execute_result",
          "data": {
            "text/plain": [
              "'你好，庞博士！很高兴认识你。我是一个AI助手，可以回答你的问题和提供帮助。有什么我可以帮你的吗？'"
            ],
            "application/vnd.google.colaboratory.intrinsic+json": {
              "type": "string"
            }
          },
          "metadata": {},
          "execution_count": 8
        }
      ],
      "source": [
        "conversation.predict(input=\"你好，我是庞博士\")"
      ]
    },
    {
      "cell_type": "code",
      "execution_count": null,
      "id": "cc3ef937",
      "metadata": {
        "height": 30,
        "colab": {
          "base_uri": "https://localhost:8080/",
          "height": 295
        },
        "id": "cc3ef937",
        "outputId": "fbbf64f2-6599-4756-e7e1-f013c33ec87e"
      },
      "outputs": [
        {
          "output_type": "stream",
          "name": "stdout",
          "text": [
            "\n",
            "\n",
            "\u001b[1m> Entering new ConversationChain chain...\u001b[0m\n",
            "Prompt after formatting:\n",
            "\u001b[32;1m\u001b[1;3mThe following is a friendly conversation between a human and an AI. The AI is talkative and provides lots of specific details from its context. If the AI does not know the answer to a question, it truthfully says it does not know.\n",
            "\n",
            "Current conversation:\n",
            "Human: 你好，我是庞博士\n",
            "AI: 你好，庞博士！很高兴认识你。我是一个AI助手，可以回答你的问题和提供帮助。有什么我可以帮你的吗？\n",
            "Human: 我爱滑雪\n",
            "AI:\u001b[0m\n",
            "\n",
            "\u001b[1m> Finished chain.\u001b[0m\n"
          ]
        },
        {
          "output_type": "execute_result",
          "data": {
            "text/plain": [
              "'哇，滑雪是一项很棒的运动！你通常在哪里滑雪？有没有什么特别喜欢的滑雪场或滑雪路线？滑雪对你来说意味着什么？'"
            ],
            "application/vnd.google.colaboratory.intrinsic+json": {
              "type": "string"
            }
          },
          "metadata": {},
          "execution_count": 9
        }
      ],
      "source": [
        "conversation.predict(input=\"我爱滑雪\")"
      ]
    },
    {
      "cell_type": "code",
      "execution_count": null,
      "id": "acf3339a",
      "metadata": {
        "height": 30,
        "colab": {
          "base_uri": "https://localhost:8080/",
          "height": 329
        },
        "id": "acf3339a",
        "outputId": "b767b5c7-2a36-49e3-91aa-caf631f5c4eb"
      },
      "outputs": [
        {
          "output_type": "stream",
          "name": "stdout",
          "text": [
            "\n",
            "\n",
            "\u001b[1m> Entering new ConversationChain chain...\u001b[0m\n",
            "Prompt after formatting:\n",
            "\u001b[32;1m\u001b[1;3mThe following is a friendly conversation between a human and an AI. The AI is talkative and provides lots of specific details from its context. If the AI does not know the answer to a question, it truthfully says it does not know.\n",
            "\n",
            "Current conversation:\n",
            "Human: 你好，我是庞博士\n",
            "AI: 你好，庞博士！很高兴认识你。我是一个AI助手，可以回答你的问题和提供帮助。有什么我可以帮你的吗？\n",
            "Human: 我爱滑雪\n",
            "AI: 哇，滑雪是一项很棒的运动！你通常在哪里滑雪？有没有什么特别喜欢的滑雪场或滑雪路线？滑雪对你来说意味着什么？\n",
            "Human: 我是谁？\n",
            "AI:\u001b[0m\n",
            "\n",
            "\u001b[1m> Finished chain.\u001b[0m\n"
          ]
        },
        {
          "output_type": "execute_result",
          "data": {
            "text/plain": [
              "'你是庞博士，一个人工智能助手无法直接回答的问题。你是一个独特的个体，有自己的思想、感受和经历。你可以告诉我更多关于你自己的信息吗？'"
            ],
            "application/vnd.google.colaboratory.intrinsic+json": {
              "type": "string"
            }
          },
          "metadata": {},
          "execution_count": 10
        }
      ],
      "source": [
        "conversation.predict(input=\"我是谁？\")"
      ]
    },
    {
      "cell_type": "code",
      "execution_count": null,
      "id": "2529400d",
      "metadata": {
        "height": 30,
        "colab": {
          "base_uri": "https://localhost:8080/"
        },
        "id": "2529400d",
        "outputId": "25ff5965-0804-495e-e5c8-ecc472125032"
      },
      "outputs": [
        {
          "output_type": "stream",
          "name": "stdout",
          "text": [
            "Human: 你好，我是庞博士\n",
            "AI: 你好，庞博士！很高兴认识你。我是一个AI助手，可以回答你的问题和提供帮助。有什么我可以帮你的吗？\n",
            "Human: 我爱滑雪\n",
            "AI: 哇，滑雪是一项很棒的运动！你通常在哪里滑雪？有没有什么特别喜欢的滑雪场或滑雪路线？滑雪对你来说意味着什么？\n",
            "Human: 我是谁？\n",
            "AI: 你是庞博士，一个人工智能助手无法直接回答的问题。你是一个独特的个体，有自己的思想、感受和经历。你可以告诉我更多关于你自己的信息吗？\n"
          ]
        }
      ],
      "source": [
        "print(memory.buffer)"
      ]
    },
    {
      "cell_type": "code",
      "execution_count": null,
      "id": "5018cb0a",
      "metadata": {
        "height": 30,
        "colab": {
          "base_uri": "https://localhost:8080/"
        },
        "id": "5018cb0a",
        "outputId": "3a6f5545-5681-477e-f18f-4888d41aaada"
      },
      "outputs": [
        {
          "output_type": "execute_result",
          "data": {
            "text/plain": [
              "{'history': 'Human: 你好，我是庞博士\\nAI: 你好，庞博士！很高兴认识你。我是一个AI助手，可以回答你的问题和提供帮助。有什么我可以帮你的吗？\\nHuman: 我爱滑雪\\nAI: 哇，滑雪是一项很棒的运动！你通常在哪里滑雪？有没有什么特别喜欢的滑雪场或滑雪路线？滑雪对你来说意味着什么？\\nHuman: 我是谁？\\nAI: 你是庞博士，一个人工智能助手无法直接回答的问题。你是一个独特的个体，有自己的思想、感受和经历。你可以告诉我更多关于你自己的信息吗？'}"
            ]
          },
          "metadata": {},
          "execution_count": 12
        }
      ],
      "source": [
        "memory.load_memory_variables({})"
      ]
    },
    {
      "cell_type": "code",
      "execution_count": null,
      "id": "14219b70",
      "metadata": {
        "height": 30,
        "id": "14219b70"
      },
      "outputs": [],
      "source": [
        "memory = ConversationBufferMemory()"
      ]
    },
    {
      "cell_type": "code",
      "execution_count": null,
      "id": "a36e9905",
      "metadata": {
        "height": 47,
        "id": "a36e9905"
      },
      "outputs": [],
      "source": [
        "memory.save_context({\"input\": \"你好\"},\n",
        "                    {\"output\": \"你好，吃饭了吗？\"})"
      ]
    },
    {
      "cell_type": "code",
      "execution_count": null,
      "id": "61631b1f",
      "metadata": {
        "height": 30,
        "colab": {
          "base_uri": "https://localhost:8080/"
        },
        "id": "61631b1f",
        "outputId": "2760f806-3152-4fd9-ca37-d82c8daa1b56"
      },
      "outputs": [
        {
          "output_type": "stream",
          "name": "stdout",
          "text": [
            "Human: 你好\n",
            "AI: 你好，吃饭了吗？\n"
          ]
        }
      ],
      "source": [
        "print(memory.buffer)"
      ]
    },
    {
      "cell_type": "code",
      "execution_count": null,
      "id": "a2fdf9ec",
      "metadata": {
        "height": 30,
        "colab": {
          "base_uri": "https://localhost:8080/"
        },
        "id": "a2fdf9ec",
        "outputId": "af1917c9-340e-4f1f-c9db-3fbe509372ba"
      },
      "outputs": [
        {
          "output_type": "execute_result",
          "data": {
            "text/plain": [
              "{'history': 'Human: 你好\\nAI: 你好，吃饭了吗？'}"
            ]
          },
          "metadata": {},
          "execution_count": 16
        }
      ],
      "source": [
        "memory.load_memory_variables({})"
      ]
    },
    {
      "cell_type": "code",
      "execution_count": null,
      "id": "7ca79256",
      "metadata": {
        "height": 47,
        "id": "7ca79256"
      },
      "outputs": [],
      "source": [
        "memory.save_context({\"input\": \"吃了，吃了淄博烧烤\"},\n",
        "                    {\"output\": \"太棒了！\"})"
      ]
    },
    {
      "cell_type": "code",
      "execution_count": null,
      "id": "890a4497",
      "metadata": {
        "height": 30,
        "colab": {
          "base_uri": "https://localhost:8080/"
        },
        "id": "890a4497",
        "outputId": "253e58cd-b8d2-47f0-8b37-3de246d504c4"
      },
      "outputs": [
        {
          "output_type": "execute_result",
          "data": {
            "text/plain": [
              "{'history': 'Human: 你好\\nAI: 你好，吃饭了吗？\\nHuman: 吃了，吃了淄博烧烤\\nAI: 太棒了！'}"
            ]
          },
          "metadata": {},
          "execution_count": 18
        }
      ],
      "source": [
        "memory.load_memory_variables({})"
      ]
    },
    {
      "cell_type": "markdown",
      "id": "cf98e9ff",
      "metadata": {
        "id": "cf98e9ff"
      },
      "source": [
        "## ConversationBufferWindowMemory 对话缓冲窗口记忆"
      ]
    },
    {
      "cell_type": "code",
      "execution_count": null,
      "id": "66eeccc3",
      "metadata": {
        "height": 30,
        "id": "66eeccc3"
      },
      "outputs": [],
      "source": [
        "from langchain.memory import ConversationBufferWindowMemory"
      ]
    },
    {
      "cell_type": "code",
      "execution_count": null,
      "id": "3ea6233e",
      "metadata": {
        "height": 30,
        "id": "3ea6233e"
      },
      "outputs": [],
      "source": [
        "memory = ConversationBufferWindowMemory(k=2)"
      ]
    },
    {
      "cell_type": "code",
      "execution_count": null,
      "id": "dc4553fb",
      "metadata": {
        "height": 98,
        "id": "dc4553fb"
      },
      "outputs": [],
      "source": [
        "memory.save_context({\"input\": \"你好\"},\n",
        "                    {\"output\": \"你好，吃了吗？\"})\n",
        "memory.save_context({\"input\": \"吃了，吃的淄博烧烤\"},\n",
        "                    {\"output\": \"太棒了！\"})\n"
      ]
    },
    {
      "cell_type": "code",
      "execution_count": null,
      "id": "6a788403",
      "metadata": {
        "height": 30,
        "colab": {
          "base_uri": "https://localhost:8080/"
        },
        "id": "6a788403",
        "outputId": "b1ec8fac-18fa-4773-9699-01a19874133c"
      },
      "outputs": [
        {
          "output_type": "execute_result",
          "data": {
            "text/plain": [
              "{'history': 'Human: 你好\\nAI: 你好，吃了吗？\\nHuman: 吃了，吃的淄博烧烤\\nAI: 太棒了！'}"
            ]
          },
          "metadata": {},
          "execution_count": 25
        }
      ],
      "source": [
        "memory.load_memory_variables({})"
      ]
    },
    {
      "cell_type": "code",
      "execution_count": null,
      "id": "4087bc87",
      "metadata": {
        "height": 132,
        "id": "4087bc87"
      },
      "outputs": [],
      "source": [
        "llm = ChatOpenAI(temperature=0.0)\n",
        "memory = ConversationBufferWindowMemory(k=1)\n",
        "conversation = ConversationChain(\n",
        "    llm=llm,\n",
        "    memory = memory,\n",
        "    verbose=False\n",
        ")"
      ]
    },
    {
      "cell_type": "code",
      "execution_count": null,
      "id": "4faaa952",
      "metadata": {
        "height": 30,
        "colab": {
          "base_uri": "https://localhost:8080/",
          "height": 54
        },
        "id": "4faaa952",
        "outputId": "cd4b3e5d-814d-41a6-ad46-804960ab99b9"
      },
      "outputs": [
        {
          "output_type": "execute_result",
          "data": {
            "text/plain": [
              "'你好，庞博士！很高兴认识你。我是一个AI助手，可以回答你的问题和提供帮助。有什么我可以帮你的吗？'"
            ],
            "application/vnd.google.colaboratory.intrinsic+json": {
              "type": "string"
            }
          },
          "metadata": {},
          "execution_count": 27
        }
      ],
      "source": [
        "conversation.predict(input=\"你好，我是庞博士\")"
      ]
    },
    {
      "cell_type": "code",
      "execution_count": null,
      "id": "bb20ddaa",
      "metadata": {
        "height": 30,
        "colab": {
          "base_uri": "https://localhost:8080/",
          "height": 176
        },
        "id": "bb20ddaa",
        "outputId": "95d17a0c-2d75-4c2a-83bd-5390f9af8bb6"
      },
      "outputs": [
        {
          "output_type": "stream",
          "name": "stderr",
          "text": [
            "WARNING:langchain.llms.base:Retrying langchain.chat_models.openai.ChatOpenAI.completion_with_retry.<locals>._completion_with_retry in 4.0 seconds as it raised ServiceUnavailableError: The server is overloaded or not ready yet..\n"
          ]
        },
        {
          "output_type": "execute_result",
          "data": {
            "text/plain": [
              "'作为一个AI助手，我没有感受和喜好，所以我无法说我是否喜欢滑雪。但是我可以告诉你关于滑雪的一些信息，比如滑雪是一项冬季运动，人们在雪地上穿着滑雪板或滑雪板滑行。滑雪可以是一项休闲活动，也可以是一项竞技运动。滑雪的技巧包括平行滑行、刹车、转弯等。滑雪背后的物理原理是利用滑雪板或滑雪板与雪地之间的摩擦力来控制滑行速度和方向。滑雪背后的科学原理涉及到力学、摩擦力和重力等知识。滑雪也有一些不同的类型，比如高山滑雪、越野滑雪和自由式滑雪等。滑雪是一项受到许多人喜爱的运动，它不仅可以锻炼身体，还可以享受大自然的美景。如果你对滑雪有任何具体的问题，我会尽力回答。'"
            ],
            "application/vnd.google.colaboratory.intrinsic+json": {
              "type": "string"
            }
          },
          "metadata": {},
          "execution_count": 28
        }
      ],
      "source": [
        "conversation.predict(input=\"我喜欢滑雪，你喜欢吗？\")"
      ]
    },
    {
      "cell_type": "code",
      "execution_count": null,
      "id": "489b2194",
      "metadata": {
        "height": 30,
        "colab": {
          "base_uri": "https://localhost:8080/",
          "height": 54
        },
        "id": "489b2194",
        "outputId": "c1504b01-9e94-43fe-d3c1-7d9b77d03be1"
      },
      "outputs": [
        {
          "output_type": "execute_result",
          "data": {
            "text/plain": [
              "'作为一个AI助手，我没有记忆功能，所以我无法记得你是谁。每次对话都是独立的，我只能根据当前的对话内容来回答问题。如果你有任何需要帮助的问题，我会尽力提供信息。'"
            ],
            "application/vnd.google.colaboratory.intrinsic+json": {
              "type": "string"
            }
          },
          "metadata": {},
          "execution_count": 29
        }
      ],
      "source": [
        "conversation.predict(input=\"你还记得我是谁吗？\")"
      ]
    },
    {
      "cell_type": "markdown",
      "id": "d2931b92",
      "metadata": {
        "id": "d2931b92"
      },
      "source": [
        "## ConversationTokenBufferMemory 对话代币缓冲记忆"
      ]
    },
    {
      "cell_type": "code",
      "execution_count": null,
      "id": "9f6d063c",
      "metadata": {
        "height": 30,
        "id": "9f6d063c"
      },
      "outputs": [],
      "source": [
        "!pip install tiktoken"
      ]
    },
    {
      "cell_type": "code",
      "execution_count": null,
      "id": "fb9020ed",
      "metadata": {
        "height": 64,
        "id": "fb9020ed"
      },
      "outputs": [],
      "source": [
        "from langchain.memory import ConversationTokenBufferMemory\n",
        "from langchain.llms import OpenAI\n",
        "llm = ChatOpenAI(temperature=0.0)"
      ]
    },
    {
      "cell_type": "code",
      "execution_count": null,
      "id": "43582ee6",
      "metadata": {
        "height": 132,
        "id": "43582ee6"
      },
      "outputs": [],
      "source": [
        "memory = ConversationTokenBufferMemory(llm=llm, max_token_limit=30)\n",
        "memory.save_context({\"input\": \"你知道Insta360吗？\"},\n",
        "                    {\"output\": \"我知道呀，他们的360度运动相机很不错\"})\n",
        "memory.save_context({\"input\": \"是吗？有什么特别的？\"},\n",
        "                    {\"output\": \"不用担心照不好，还有那个隐藏自拍杆功能\"})\n",
        "memory.save_context({\"input\": \"什么隐藏自拍杆？\"},\n",
        "                    {\"output\": \"就是看不到自拍杆，像是无人机拍的\"})"
      ]
    },
    {
      "cell_type": "code",
      "execution_count": null,
      "id": "284288e1",
      "metadata": {
        "height": 30,
        "colab": {
          "base_uri": "https://localhost:8080/"
        },
        "id": "284288e1",
        "outputId": "7cd098c2-ab0b-4c90-e4c9-693b19bbb121"
      },
      "outputs": [
        {
          "output_type": "execute_result",
          "data": {
            "text/plain": [
              "{'history': 'AI: 就是看不到自拍杆，像是无人机拍的'}"
            ]
          },
          "metadata": {},
          "execution_count": 33
        }
      ],
      "source": [
        "memory.load_memory_variables({})"
      ]
    },
    {
      "cell_type": "markdown",
      "id": "5ff55d5d",
      "metadata": {
        "id": "5ff55d5d"
      },
      "source": [
        "## ConversationSummaryMemory 对话总结记忆"
      ]
    },
    {
      "cell_type": "code",
      "execution_count": null,
      "id": "72dcf8b1",
      "metadata": {
        "height": 47,
        "id": "72dcf8b1"
      },
      "outputs": [],
      "source": [
        "from langchain.memory import ConversationSummaryBufferMemory\n"
      ]
    },
    {
      "cell_type": "code",
      "execution_count": null,
      "id": "4a5b238f",
      "metadata": {
        "height": 268,
        "id": "4a5b238f"
      },
      "outputs": [],
      "source": [
        "# create a long string\n",
        "customer_review = \"\"\"\n",
        "Insta360 has made some incredible cameras in their short history but the Insta360 X3 has to be one of the best. They have taken some of what their higher end 1\" 360 camera had (which I also own) and put it in a body like the previous X models to make a supercharged action 360 camera. There is something nothing else even close to this for its capabilities, features, and quality.\n",
        "Having the nice big screen is huge for action since you can easily change what you need to while on the go while also seeing what the camera sees, without having to get super close and squint like with some other competitor non-360 cameras.\n",
        "The footage and images this thing puts out are just fantastic and it is super durable as well. I will grab this for some outings before I will touch the 1\" 360 camera, thanks to the X3's durability and waterproofing.\n",
        "Plus, the Insta360 app has been amazing, kind of like giving you a studio in your pocket for right after you captured your awesome footage.\n",
        "The Insta360 X3 has a new 1/2 sensor which gives better low light performance and greater detail, something that even the new GoPro HERO 11 does not offer. The higher megapixel count gives greatly detailed photographs as well, in addition to giving you extra space to crop in.\n",
        "Anyway, I currently own 4 Insta360 cameras as well as other action cameras and I can tell you - the Insta360 X3 is the one to have. If you don't want 360 footage all the time, the new X3 you can also shoot single-lens mode to capture just one direction, great for if you don't want to reframe the 360 footage and you just want to capture one direction.\n",
        "For all your action or any kind of on-the-go photo/video needs, the Insta360 X3 will check every box and, when combined with the Insta360 app, you will have a go-anywhere studio that gives you views, angles, and images that you cannot get with any other camera. Give it a try!\n",
        "I will update this more after I have used it for some other activities as well.\n",
        "\"\"\"\n",
        "\n",
        "memory = ConversationSummaryBufferMemory(llm=llm, max_token_limit=50)\n",
        "memory.save_context({\"input\": \"你能帮我看看这个客户讲了什么吗？\"},\n",
        "                    {\"output\": f\"{customer_review}\"})"
      ]
    },
    {
      "cell_type": "code",
      "execution_count": null,
      "id": "2e4ecabe",
      "metadata": {
        "height": 30,
        "colab": {
          "base_uri": "https://localhost:8080/"
        },
        "id": "2e4ecabe",
        "outputId": "7f7d92a6-e336-4a65-cf2c-b645af1c343e"
      },
      "outputs": [
        {
          "output_type": "execute_result",
          "data": {
            "text/plain": [
              "{'history': \"System: The human asks the AI to help them understand what a customer said. The AI responds with a detailed review of the Insta360 X3 camera, highlighting its features, capabilities, and quality. The AI mentions that the camera's big screen is beneficial for action shots, and praises the footage and images it produces. The AI also mentions the camera's durability and waterproofing, as well as the usefulness of the Insta360 app. The AI notes that the X3 has a new sensor for better low light performance and greater detail, and can also shoot in single-lens mode for capturing a specific direction. The AI concludes by recommending the Insta360 X3 for all action and on-the-go photo/video needs.\"}"
            ]
          },
          "metadata": {},
          "execution_count": 37
        }
      ],
      "source": [
        "memory.load_memory_variables({})"
      ]
    },
    {
      "cell_type": "code",
      "execution_count": null,
      "id": "6728edba",
      "metadata": {
        "height": 98,
        "id": "6728edba"
      },
      "outputs": [],
      "source": [
        "conversation = ConversationChain(\n",
        "    llm=llm,\n",
        "    memory = memory,\n",
        "    verbose=True\n",
        ")"
      ]
    },
    {
      "cell_type": "code",
      "execution_count": null,
      "id": "9a221b1d",
      "metadata": {
        "height": 30,
        "colab": {
          "base_uri": "https://localhost:8080/",
          "height": 329
        },
        "id": "9a221b1d",
        "outputId": "8f756a3f-5134-4a59-90f7-a922de065d17"
      },
      "outputs": [
        {
          "output_type": "stream",
          "name": "stdout",
          "text": [
            "\n",
            "\n",
            "\u001b[1m> Entering new ConversationChain chain...\u001b[0m\n",
            "Prompt after formatting:\n",
            "\u001b[32;1m\u001b[1;3mThe following is a friendly conversation between a human and an AI. The AI is talkative and provides lots of specific details from its context. If the AI does not know the answer to a question, it truthfully says it does not know.\n",
            "\n",
            "Current conversation:\n",
            "System: The human asks the AI to help them understand what a customer said. The AI responds with a detailed review of the Insta360 X3 camera, highlighting its features, capabilities, and quality. The AI mentions that the camera's big screen is beneficial for action shots, and praises the footage and images it produces. The AI also mentions the camera's durability and waterproofing, as well as the usefulness of the Insta360 app. The AI notes that the X3 has a new sensor for better low light performance and greater detail, and can also shoot in single-lens mode for capturing a specific direction. The AI concludes by recommending the Insta360 X3 for all action and on-the-go photo/video needs.\n",
            "Human: 这个客户对Insta360 X3满意吗？\n",
            "AI:\u001b[0m\n",
            "\n",
            "\u001b[1m> Finished chain.\u001b[0m\n"
          ]
        },
        {
          "output_type": "execute_result",
          "data": {
            "text/plain": [
              "'这个客户对Insta360 X3非常满意。他们对相机的大屏幕和拍摄的画面质量赞不绝口。他们也提到了相机的耐用性和防水性能，以及Insta360应用程序的实用性。此外，他们还赞赏X3相机配备了新的传感器，以提供更好的低光性能和更多的细节，并且可以切换到单镜头模式以捕捉特定方向的画面。总的来说，这个客户强烈推荐Insta360 X3相机，认为它非常适合拍摄动作和随身拍摄的需求。'"
            ],
            "application/vnd.google.colaboratory.intrinsic+json": {
              "type": "string"
            }
          },
          "metadata": {},
          "execution_count": 39
        }
      ],
      "source": [
        "conversation.predict(input=\"这个客户对Insta360 X3满意吗？\")"
      ]
    },
    {
      "cell_type": "code",
      "execution_count": null,
      "id": "bb582617",
      "metadata": {
        "height": 30,
        "colab": {
          "base_uri": "https://localhost:8080/"
        },
        "id": "bb582617",
        "outputId": "4d2436c0-22cb-493e-e4ed-5b92a6410d9d"
      },
      "outputs": [
        {
          "output_type": "execute_result",
          "data": {
            "text/plain": [
              "{'history': \"System: The human asks the AI to help them understand what a customer said about the Insta360 X3 camera. The AI responds by saying that the customer is extremely satisfied with the camera, praising its big screen and the quality of the footage it produces. The customer also mentions the camera's durability, waterproofing, and the usefulness of the Insta360 app. The AI adds that the X3 has a new sensor for better low light performance and greater detail, and can also shoot in single-lens mode for capturing a specific direction. Overall, the customer strongly recommends the Insta360 X3 camera for action and on-the-go photo/video needs.\"}"
            ]
          },
          "metadata": {},
          "execution_count": 40
        }
      ],
      "source": [
        "memory.load_memory_variables({})"
      ]
    },
    {
      "cell_type": "code",
      "execution_count": null,
      "id": "4ba827aa",
      "metadata": {
        "height": 30,
        "id": "4ba827aa"
      },
      "outputs": [],
      "source": []
    }
  ],
  "metadata": {
    "kernelspec": {
      "display_name": "Python 3 (ipykernel)",
      "language": "python",
      "name": "python3"
    },
    "language_info": {
      "codemirror_mode": {
        "name": "ipython",
        "version": 3
      },
      "file_extension": ".py",
      "mimetype": "text/x-python",
      "name": "python",
      "nbconvert_exporter": "python",
      "pygments_lexer": "ipython3",
      "version": "3.11.3"
    },
    "colab": {
      "provenance": [],
      "include_colab_link": true
    }
  },
  "nbformat": 4,
  "nbformat_minor": 5
}