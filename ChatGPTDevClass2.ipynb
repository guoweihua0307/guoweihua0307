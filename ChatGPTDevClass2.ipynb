{
  "nbformat": 4,
  "nbformat_minor": 0,
  "metadata": {
    "colab": {
      "provenance": [],
      "include_colab_link": true
    },
    "kernelspec": {
      "name": "python3",
      "display_name": "Python 3"
    },
    "language_info": {
      "name": "python"
    }
  },
  "cells": [
    {
      "cell_type": "markdown",
      "metadata": {
        "id": "view-in-github",
        "colab_type": "text"
      },
      "source": [
        "<a href=\"https://colab.research.google.com/github/guoweihua0307/guoweihua0307/blob/main/ChatGPTDevClass2.ipynb\" target=\"_parent\"><img src=\"https://colab.research.google.com/assets/colab-badge.svg\" alt=\"Open In Colab\"/></a>"
      ]
    },
    {
      "cell_type": "markdown",
      "source": [
        "# 模型，魔法，和解析器"
      ],
      "metadata": {
        "id": "z9_w1DmZq-CS"
      }
    },
    {
      "cell_type": "markdown",
      "source": [
        "\n",
        "##装载OpenAI的库"
      ],
      "metadata": {
        "id": "YU8egffBubWm"
      }
    },
    {
      "cell_type": "code",
      "source": [
        "!pip install python-dotenv\n",
        "!pip install openai"
      ],
      "metadata": {
        "colab": {
          "base_uri": "https://localhost:8080/"
        },
        "id": "uRK-aNVNrbzw",
        "outputId": "c0a11919-a6db-4fde-a424-8bb851dff255"
      },
      "execution_count": null,
      "outputs": [
        {
          "output_type": "stream",
          "name": "stdout",
          "text": [
            "Collecting python-dotenv\n",
            "  Downloading python_dotenv-1.0.0-py3-none-any.whl (19 kB)\n",
            "Installing collected packages: python-dotenv\n",
            "Successfully installed python-dotenv-1.0.0\n",
            "Collecting openai\n",
            "  Downloading openai-0.27.8-py3-none-any.whl (73 kB)\n",
            "\u001b[2K     \u001b[90m━━━━━━━━━━━━━━━━━━━━━━━━━━━━━━━━━━━━━━━━\u001b[0m \u001b[32m73.6/73.6 kB\u001b[0m \u001b[31m2.3 MB/s\u001b[0m eta \u001b[36m0:00:00\u001b[0m\n",
            "\u001b[?25hRequirement already satisfied: requests>=2.20 in /usr/local/lib/python3.10/dist-packages (from openai) (2.27.1)\n",
            "Requirement already satisfied: tqdm in /usr/local/lib/python3.10/dist-packages (from openai) (4.65.0)\n",
            "Requirement already satisfied: aiohttp in /usr/local/lib/python3.10/dist-packages (from openai) (3.8.4)\n",
            "Requirement already satisfied: urllib3<1.27,>=1.21.1 in /usr/local/lib/python3.10/dist-packages (from requests>=2.20->openai) (1.26.16)\n",
            "Requirement already satisfied: certifi>=2017.4.17 in /usr/local/lib/python3.10/dist-packages (from requests>=2.20->openai) (2023.5.7)\n",
            "Requirement already satisfied: charset-normalizer~=2.0.0 in /usr/local/lib/python3.10/dist-packages (from requests>=2.20->openai) (2.0.12)\n",
            "Requirement already satisfied: idna<4,>=2.5 in /usr/local/lib/python3.10/dist-packages (from requests>=2.20->openai) (3.4)\n",
            "Requirement already satisfied: attrs>=17.3.0 in /usr/local/lib/python3.10/dist-packages (from aiohttp->openai) (23.1.0)\n",
            "Requirement already satisfied: multidict<7.0,>=4.5 in /usr/local/lib/python3.10/dist-packages (from aiohttp->openai) (6.0.4)\n",
            "Requirement already satisfied: async-timeout<5.0,>=4.0.0a3 in /usr/local/lib/python3.10/dist-packages (from aiohttp->openai) (4.0.2)\n",
            "Requirement already satisfied: yarl<2.0,>=1.0 in /usr/local/lib/python3.10/dist-packages (from aiohttp->openai) (1.9.2)\n",
            "Requirement already satisfied: frozenlist>=1.1.1 in /usr/local/lib/python3.10/dist-packages (from aiohttp->openai) (1.4.0)\n",
            "Requirement already satisfied: aiosignal>=1.1.2 in /usr/local/lib/python3.10/dist-packages (from aiohttp->openai) (1.3.1)\n",
            "Installing collected packages: openai\n",
            "Successfully installed openai-0.27.8\n"
          ]
        }
      ]
    },
    {
      "cell_type": "markdown",
      "source": [
        "\n",
        "###载入你的OpenAI API key"
      ],
      "metadata": {
        "id": "1Sd-rsolrcNp"
      }
    },
    {
      "cell_type": "code",
      "source": [
        "import os\n",
        "import openai\n",
        "\n",
        "from dotenv import load_dotenv, find_dotenv\n",
        "_ = load_dotenv(find_dotenv()) # read local .env file\n",
        "openai.api_key = os.environ['OPENAI_API_KEY']"
      ],
      "metadata": {
        "id": "MCcT4MdPq7O0"
      },
      "execution_count": null,
      "outputs": []
    },
    {
      "cell_type": "markdown",
      "source": [
        "### 直接调用OpenAI 的ChatAPI"
      ],
      "metadata": {
        "id": "KdIk60bOuBzb"
      }
    },
    {
      "cell_type": "code",
      "source": [
        "def get_completion(prompt, model=\"gpt-3.5-turbo\"):\n",
        "    messages = [{\"role\": \"user\", \"content\": prompt}]\n",
        "    response = openai.ChatCompletion.create(\n",
        "        model=model,\n",
        "        messages=messages,\n",
        "        temperature=0,\n",
        "    )\n",
        "    return response.choices[0].message[\"content\"]\n",
        "\n"
      ],
      "metadata": {
        "id": "DW1bnkevuNIa"
      },
      "execution_count": null,
      "outputs": []
    },
    {
      "cell_type": "code",
      "source": [
        "get_completion(\"你知道Insta360吗？\")"
      ],
      "metadata": {
        "colab": {
          "base_uri": "https://localhost:8080/",
          "height": 71
        },
        "id": "OLGVT_hxu-Vy",
        "outputId": "c4b20e6d-e600-4ed8-99ab-7549e1c31d36"
      },
      "execution_count": null,
      "outputs": [
        {
          "output_type": "execute_result",
          "data": {
            "text/plain": [
              "'是的，Insta360是一家专门生产全景相机和VR摄像设备的公司。他们的产品包括Insta360 ONE X、Insta360 ONE R、Insta360 GO等，这些相机都具有拍摄全景照片和视频的能力，并且可以通过手机或电脑进行编辑和分享。Insta360的产品在全景摄影和VR领域具有很高的知名度和口碑。'"
            ],
            "application/vnd.google.colaboratory.intrinsic+json": {
              "type": "string"
            }
          },
          "metadata": {},
          "execution_count": 8
        }
      ]
    },
    {
      "cell_type": "code",
      "source": [
        "customer_email = \"\"\"\n",
        "Bought this to take on a motorcycle tour. It's so much better than my old GoPro. \\\n",
        "Image stabilisation is fantastic, the app to edit footage is excellent, \\\n",
        "and it's ability to be able to pan and zoom after filming means you don't \\\n",
        "have to worry about where it's pointed all the time. \\\n",
        "Just take you video and decide what to focus on when editing. \\\n",
        "Makes the videos far more interesting and is like having a camera person \\\n",
        "travelling with you, giving a variety of shots. \\\n",
        "The invisible selfie stick is very clever too, almost like you have a drone following you. \\\n",
        "I found I was far more likely to edit the footage that evening rather than get \\\n",
        "home and have to wade through 2 weeks worth of shots which, to be honest,\\\n",
        "I quickly loose interest in.\n",
        "Battery life was impressive, and I got about 45mins of 360 video on a 32 gb memory card.\\\n",
        "The app is intuitive and easy to use, so you can really cut down long shots \\\n",
        "into short, snappy and interesting segments for combining into a longer video later. \\\n",
        "It is very expensive, but I have to admit I think it's worth the money.\n",
        "\"\"\""
      ],
      "metadata": {
        "id": "dvkyWJYrDUtW"
      },
      "execution_count": null,
      "outputs": []
    },
    {
      "cell_type": "code",
      "source": [
        "style = \"\"\"Simplified Chinese \\\n",
        "in a calm and respectful tone\n",
        "\"\"\""
      ],
      "metadata": {
        "id": "oznZek6OD8Cd"
      },
      "execution_count": null,
      "outputs": []
    },
    {
      "cell_type": "code",
      "source": [
        "prompt = f\"\"\"Translate the text \\\n",
        "that is delimited by triple backticks\n",
        "into a style that is {style}.\n",
        "text: ```{customer_email}```\n",
        "\"\"\"\n",
        "\n",
        "print(prompt)"
      ],
      "metadata": {
        "colab": {
          "base_uri": "https://localhost:8080/"
        },
        "id": "0H0Y2W-FEEvj",
        "outputId": "b3f83f34-9383-4756-809a-2565d1ff931c"
      },
      "execution_count": null,
      "outputs": [
        {
          "output_type": "stream",
          "name": "stdout",
          "text": [
            "Translate the text that is delimited by triple backticks \n",
            "into a style that is Simplified Chinese in a calm and respectful tone\n",
            ".\n",
            "text: ```\n",
            "Bought this to take on a motorcycle tour. It's so much better than my old GoPro. Image stabilisation is fantastic, the app to edit footage is excellent, and it's ability to be able to pan and zoom after filming means you don't have to worry about where it's pointed all the time. Just take you video and decide what to focus on when editing. Makes the videos far more interesting and is like having a camera person travelling with you, giving a variety of shots. The invisible selfie stick is very clever too, almost like you have a drone following you. I found I was far more likely to edit the footage that evening rather than get home and have to wade through 2 weeks worth of shots which, to be honest,\\ \n",
            "I quickly loose interest in.\n",
            "Battery life was impressive, and I got about 45mins of 360 video on a 32 gb memory card.The app is intuitive and easy to use, so you can really cut down long shots into short, snappy and interesting segments for combining into a longer video later. It is very expensive, but I have to admit I think it's worth the money.\n",
            "```\n",
            "\n"
          ]
        }
      ]
    },
    {
      "cell_type": "code",
      "source": [
        "response = get_completion(prompt)"
      ],
      "metadata": {
        "id": "e0FD6E-YEM4a"
      },
      "execution_count": null,
      "outputs": []
    },
    {
      "cell_type": "code",
      "source": [
        "response"
      ],
      "metadata": {
        "colab": {
          "base_uri": "https://localhost:8080/",
          "height": 122
        },
        "id": "P6Nqf4zTEQ28",
        "outputId": "2a3d55bd-ec69-48fb-8af9-9cfbc62dd772"
      },
      "execution_count": null,
      "outputs": [
        {
          "output_type": "execute_result",
          "data": {
            "text/plain": [
              "'购买这款产品是为了进行摩托车旅行。它比我的旧GoPro好太多了。图像稳定功能非常出色，编辑镜头的应用程序也很棒，而且在拍摄后能够进行平移和缩放的能力意味着你不必一直担心它指向哪里。只需拍摄视频，然后在编辑时决定要关注什么。这使得视频更加有趣，就像有一个随行的摄影师，提供各种不同的镜头。隐形自拍杆也非常聪明，几乎就像有一架无人机跟随着你。我发现我更有可能在当晚编辑镜头，而不是回家后要浏览两周的镜头，说实话，我很快就对它们失去了兴趣。\\n\\n电池续航时间令人印象深刻，我在32GB的存储卡上拍摄了大约45分钟的360度视频。这款应用程序直观且易于使用，因此您可以将长镜头剪辑成短小、精彩且有趣的片段，以便稍后合并成更长的视频。它的价格非常昂贵，但我必须承认我认为它物有所值。'"
            ],
            "application/vnd.google.colaboratory.intrinsic+json": {
              "type": "string"
            }
          },
          "metadata": {},
          "execution_count": 13
        }
      ]
    },
    {
      "cell_type": "markdown",
      "source": [
        "##调用LangChain的Chat API"
      ],
      "metadata": {
        "id": "Z3R_19LeQ5H3"
      }
    },
    {
      "cell_type": "markdown",
      "source": [
        "###安装LangChain"
      ],
      "metadata": {
        "id": "MkWy4S59Rl-j"
      }
    },
    {
      "cell_type": "code",
      "source": [
        "!pip install --upgrade langchain"
      ],
      "metadata": {
        "colab": {
          "base_uri": "https://localhost:8080/"
        },
        "id": "axLLNPNJRBtM",
        "outputId": "e4f339a2-c51a-45b0-cfe3-e2eba4d427d7"
      },
      "execution_count": null,
      "outputs": [
        {
          "output_type": "stream",
          "name": "stdout",
          "text": [
            "Collecting langchain\n",
            "  Downloading langchain-0.0.242-py3-none-any.whl (1.4 MB)\n",
            "\u001b[?25l     \u001b[90m━━━━━━━━━━━━━━━━━━━━━━━━━━━━━━━━━━━━━━━━\u001b[0m \u001b[32m0.0/1.4 MB\u001b[0m \u001b[31m?\u001b[0m eta \u001b[36m-:--:--\u001b[0m\r\u001b[2K     \u001b[91m━━━\u001b[0m\u001b[91m╸\u001b[0m\u001b[90m━━━━━━━━━━━━━━━━━━━━━━━━━━━━━━━━━━━━\u001b[0m \u001b[32m0.1/1.4 MB\u001b[0m \u001b[31m3.5 MB/s\u001b[0m eta \u001b[36m0:00:01\u001b[0m\r\u001b[2K     \u001b[91m━━━━━━━━━━━━━━━━━━━━━━━━━━━━━━━━━━━━━━━\u001b[0m\u001b[91m╸\u001b[0m \u001b[32m1.4/1.4 MB\u001b[0m \u001b[31m22.5 MB/s\u001b[0m eta \u001b[36m0:00:01\u001b[0m\r\u001b[2K     \u001b[90m━━━━━━━━━━━━━━━━━━━━━━━━━━━━━━━━━━━━━━━━\u001b[0m \u001b[32m1.4/1.4 MB\u001b[0m \u001b[31m18.6 MB/s\u001b[0m eta \u001b[36m0:00:00\u001b[0m\n",
            "\u001b[?25hRequirement already satisfied: PyYAML>=5.4.1 in /usr/local/lib/python3.10/dist-packages (from langchain) (6.0.1)\n",
            "Requirement already satisfied: SQLAlchemy<3,>=1.4 in /usr/local/lib/python3.10/dist-packages (from langchain) (2.0.19)\n",
            "Requirement already satisfied: aiohttp<4.0.0,>=3.8.3 in /usr/local/lib/python3.10/dist-packages (from langchain) (3.8.4)\n",
            "Requirement already satisfied: async-timeout<5.0.0,>=4.0.0 in /usr/local/lib/python3.10/dist-packages (from langchain) (4.0.2)\n",
            "Collecting dataclasses-json<0.6.0,>=0.5.7 (from langchain)\n",
            "  Downloading dataclasses_json-0.5.13-py3-none-any.whl (26 kB)\n",
            "Collecting langsmith<0.1.0,>=0.0.11 (from langchain)\n",
            "  Downloading langsmith-0.0.14-py3-none-any.whl (29 kB)\n",
            "Requirement already satisfied: numexpr<3.0.0,>=2.8.4 in /usr/local/lib/python3.10/dist-packages (from langchain) (2.8.4)\n",
            "Requirement already satisfied: numpy<2,>=1 in /usr/local/lib/python3.10/dist-packages (from langchain) (1.22.4)\n",
            "Collecting openapi-schema-pydantic<2.0,>=1.2 (from langchain)\n",
            "  Downloading openapi_schema_pydantic-1.2.4-py3-none-any.whl (90 kB)\n",
            "\u001b[2K     \u001b[90m━━━━━━━━━━━━━━━━━━━━━━━━━━━━━━━━━━━━━━━━\u001b[0m \u001b[32m90.0/90.0 kB\u001b[0m \u001b[31m11.4 MB/s\u001b[0m eta \u001b[36m0:00:00\u001b[0m\n",
            "\u001b[?25hRequirement already satisfied: pydantic<2,>=1 in /usr/local/lib/python3.10/dist-packages (from langchain) (1.10.11)\n",
            "Requirement already satisfied: requests<3,>=2 in /usr/local/lib/python3.10/dist-packages (from langchain) (2.27.1)\n",
            "Requirement already satisfied: tenacity<9.0.0,>=8.1.0 in /usr/local/lib/python3.10/dist-packages (from langchain) (8.2.2)\n",
            "Requirement already satisfied: attrs>=17.3.0 in /usr/local/lib/python3.10/dist-packages (from aiohttp<4.0.0,>=3.8.3->langchain) (23.1.0)\n",
            "Requirement already satisfied: charset-normalizer<4.0,>=2.0 in /usr/local/lib/python3.10/dist-packages (from aiohttp<4.0.0,>=3.8.3->langchain) (2.0.12)\n",
            "Requirement already satisfied: multidict<7.0,>=4.5 in /usr/local/lib/python3.10/dist-packages (from aiohttp<4.0.0,>=3.8.3->langchain) (6.0.4)\n",
            "Requirement already satisfied: yarl<2.0,>=1.0 in /usr/local/lib/python3.10/dist-packages (from aiohttp<4.0.0,>=3.8.3->langchain) (1.9.2)\n",
            "Requirement already satisfied: frozenlist>=1.1.1 in /usr/local/lib/python3.10/dist-packages (from aiohttp<4.0.0,>=3.8.3->langchain) (1.4.0)\n",
            "Requirement already satisfied: aiosignal>=1.1.2 in /usr/local/lib/python3.10/dist-packages (from aiohttp<4.0.0,>=3.8.3->langchain) (1.3.1)\n",
            "Collecting marshmallow<4.0.0,>=3.18.0 (from dataclasses-json<0.6.0,>=0.5.7->langchain)\n",
            "  Downloading marshmallow-3.20.1-py3-none-any.whl (49 kB)\n",
            "\u001b[2K     \u001b[90m━━━━━━━━━━━━━━━━━━━━━━━━━━━━━━━━━━━━━━━━\u001b[0m \u001b[32m49.4/49.4 kB\u001b[0m \u001b[31m5.8 MB/s\u001b[0m eta \u001b[36m0:00:00\u001b[0m\n",
            "\u001b[?25hCollecting typing-inspect<1,>=0.4.0 (from dataclasses-json<0.6.0,>=0.5.7->langchain)\n",
            "  Downloading typing_inspect-0.9.0-py3-none-any.whl (8.8 kB)\n",
            "Requirement already satisfied: typing-extensions>=4.2.0 in /usr/local/lib/python3.10/dist-packages (from pydantic<2,>=1->langchain) (4.7.1)\n",
            "Requirement already satisfied: urllib3<1.27,>=1.21.1 in /usr/local/lib/python3.10/dist-packages (from requests<3,>=2->langchain) (1.26.16)\n",
            "Requirement already satisfied: certifi>=2017.4.17 in /usr/local/lib/python3.10/dist-packages (from requests<3,>=2->langchain) (2023.5.7)\n",
            "Requirement already satisfied: idna<4,>=2.5 in /usr/local/lib/python3.10/dist-packages (from requests<3,>=2->langchain) (3.4)\n",
            "Requirement already satisfied: greenlet!=0.4.17 in /usr/local/lib/python3.10/dist-packages (from SQLAlchemy<3,>=1.4->langchain) (2.0.2)\n",
            "Requirement already satisfied: packaging>=17.0 in /usr/local/lib/python3.10/dist-packages (from marshmallow<4.0.0,>=3.18.0->dataclasses-json<0.6.0,>=0.5.7->langchain) (23.1)\n",
            "Collecting mypy-extensions>=0.3.0 (from typing-inspect<1,>=0.4.0->dataclasses-json<0.6.0,>=0.5.7->langchain)\n",
            "  Downloading mypy_extensions-1.0.0-py3-none-any.whl (4.7 kB)\n",
            "Installing collected packages: mypy-extensions, marshmallow, typing-inspect, openapi-schema-pydantic, langsmith, dataclasses-json, langchain\n",
            "Successfully installed dataclasses-json-0.5.13 langchain-0.0.242 langsmith-0.0.14 marshmallow-3.20.1 mypy-extensions-1.0.0 openapi-schema-pydantic-1.2.4 typing-inspect-0.9.0\n"
          ]
        }
      ]
    },
    {
      "cell_type": "markdown",
      "source": [
        "###模型"
      ],
      "metadata": {
        "id": "7EJjjtmcRO1U"
      }
    },
    {
      "cell_type": "code",
      "source": [
        "from langchain.chat_models import ChatOpenAI"
      ],
      "metadata": {
        "id": "nQ28LoZ0RJaj"
      },
      "execution_count": null,
      "outputs": []
    },
    {
      "cell_type": "code",
      "source": [
        "# To control the randomness and creativity of the generated\n",
        "# text by an LLM, use temperature = 0.0\n",
        "chat = ChatOpenAI(temperature=0.0)"
      ],
      "metadata": {
        "id": "hYjuS1e9R4v4"
      },
      "execution_count": null,
      "outputs": []
    },
    {
      "cell_type": "markdown",
      "source": [
        "###魔法模版"
      ],
      "metadata": {
        "id": "F5-9SWRHSB6X"
      }
    },
    {
      "cell_type": "code",
      "source": [
        "template_string = \"\"\"Translate the text \\\n",
        "that is delimited by triple backticks \\\n",
        "into a style that is {style}. \\\n",
        "text: ```{text}```\n",
        "\"\"\""
      ],
      "metadata": {
        "id": "Rq6UUp6nXhZo"
      },
      "execution_count": null,
      "outputs": []
    },
    {
      "cell_type": "code",
      "source": [
        "from langchain.prompts import ChatPromptTemplate\n",
        "\n",
        "prompt_template = ChatPromptTemplate.from_template(template_string)"
      ],
      "metadata": {
        "id": "2wheR-AtXwwn"
      },
      "execution_count": null,
      "outputs": []
    },
    {
      "cell_type": "code",
      "source": [
        "prompt_template.messages[0].prompt"
      ],
      "metadata": {
        "colab": {
          "base_uri": "https://localhost:8080/"
        },
        "id": "EwZG0sQIX2CY",
        "outputId": "dd7282d2-c502-411e-9e93-b5278e9f5577"
      },
      "execution_count": null,
      "outputs": [
        {
          "output_type": "execute_result",
          "data": {
            "text/plain": [
              "PromptTemplate(input_variables=['style', 'text'], output_parser=None, partial_variables={}, template='Translate the text that is delimited by triple backticks into a style that is {style}. text: ```{text}```\\n', template_format='f-string', validate_template=True)"
            ]
          },
          "metadata": {},
          "execution_count": 20
        }
      ]
    },
    {
      "cell_type": "code",
      "source": [
        "prompt_template.messages[0].prompt.input_variables"
      ],
      "metadata": {
        "colab": {
          "base_uri": "https://localhost:8080/"
        },
        "id": "iYuoGv0UYGJp",
        "outputId": "856da3f0-4d1f-4763-c570-49082c4eab4c"
      },
      "execution_count": null,
      "outputs": [
        {
          "output_type": "execute_result",
          "data": {
            "text/plain": [
              "['style', 'text']"
            ]
          },
          "metadata": {},
          "execution_count": 21
        }
      ]
    },
    {
      "cell_type": "code",
      "source": [
        "customer_style = \"\"\"Simplified Chinese \\\n",
        "in a calm and respectful tone\n",
        "\"\"\""
      ],
      "metadata": {
        "id": "AkWB7CHPYLRY"
      },
      "execution_count": null,
      "outputs": []
    },
    {
      "cell_type": "code",
      "source": [
        "customer_email = \"\"\"\n",
        "Bought this to take on a motorcycle tour. It's so much better than my old GoPro. \\\n",
        "Image stabilisation is fantastic, the app to edit footage is excellent, \\\n",
        "and it's ability to be able to pan and zoom after filming means you don't \\\n",
        "have to worry about where it's pointed all the time. \\\n",
        "Just take you video and decide what to focus on when editing. \\\n",
        "Makes the videos far more interesting and is like having a camera person \\\n",
        "travelling with you, giving a variety of shots. \\\n",
        "The invisible selfie stick is very clever too, almost like you have a drone following you. \\\n",
        "I found I was far more likely to edit the footage that evening rather than get \\\n",
        "home and have to wade through 2 weeks worth of shots which, to be honest,\\\n",
        "I quickly loose interest in.\n",
        "Battery life was impressive, and I got about 45mins of 360 video on a 32 gb memory card.\\\n",
        "The app is intuitive and easy to use, so you can really cut down long shots \\\n",
        "into short, snappy and interesting segments for combining into a longer video later. \\\n",
        "It is very expensive, but I have to admit I think it's worth the money.\n",
        "\"\"\""
      ],
      "metadata": {
        "id": "yG2SErdxYNV6"
      },
      "execution_count": null,
      "outputs": []
    },
    {
      "cell_type": "code",
      "source": [
        "customer_messages = prompt_template.format_messages(\n",
        "                    style=customer_style,\n",
        "                    text=customer_email)"
      ],
      "metadata": {
        "id": "j5ZcRWzpYmu_"
      },
      "execution_count": null,
      "outputs": []
    },
    {
      "cell_type": "code",
      "source": [
        "print(type(customer_messages))\n",
        "print(type(customer_messages[0]))"
      ],
      "metadata": {
        "colab": {
          "base_uri": "https://localhost:8080/"
        },
        "id": "bhoZjyF_YsPz",
        "outputId": "597fac52-96c9-4256-ce58-dc44b613c2cd"
      },
      "execution_count": null,
      "outputs": [
        {
          "output_type": "stream",
          "name": "stdout",
          "text": [
            "<class 'list'>\n",
            "<class 'langchain.schema.messages.HumanMessage'>\n"
          ]
        }
      ]
    },
    {
      "cell_type": "code",
      "source": [
        "print(customer_messages[0])"
      ],
      "metadata": {
        "colab": {
          "base_uri": "https://localhost:8080/"
        },
        "id": "DPCBWuRcYye7",
        "outputId": "fbb3d917-3d75-4b00-dfe1-c03f95691772"
      },
      "execution_count": null,
      "outputs": [
        {
          "output_type": "stream",
          "name": "stdout",
          "text": [
            "content=\"Translate the text that is delimited by triple backticks into a style that is Simplified Chinese in a calm and respectful tone\\n. text: ```\\nBought this to take on a motorcycle tour. It's so much better than my old GoPro. Image stabilisation is fantastic, the app to edit footage is excellent, and it's ability to be able to pan and zoom after filming means you don't have to worry about where it's pointed all the time. Just take you video and decide what to focus on when editing. Makes the videos far more interesting and is like having a camera person travelling with you, giving a variety of shots. The invisible selfie stick is very clever too, almost like you have a drone following you. I found I was far more likely to edit the footage that evening rather than get home and have to wade through 2 weeks worth of shots which, to be honest,\\\\ \\nI quickly loose interest in.\\nBattery life was impressive, and I got about 45mins of 360 video on a 32 gb memory card.The app is intuitive and easy to use, so you can really cut down long shots into short, snappy and interesting segments for combining into a longer video later. It is very expensive, but I have to admit I think it's worth the money.\\n```\\n\" additional_kwargs={} example=False\n"
          ]
        }
      ]
    },
    {
      "cell_type": "code",
      "source": [
        "# Call the LLM to translate to the style of the customer message\n",
        "customer_response = chat(customer_messages)"
      ],
      "metadata": {
        "id": "epKWLBqfY91d"
      },
      "execution_count": null,
      "outputs": []
    },
    {
      "cell_type": "code",
      "source": [
        "print(customer_response.content)"
      ],
      "metadata": {
        "colab": {
          "base_uri": "https://localhost:8080/"
        },
        "id": "ZjdAj3mtZGzn",
        "outputId": "93722b63-d16a-4816-d8f6-4361e648dcf6"
      },
      "execution_count": null,
      "outputs": [
        {
          "output_type": "stream",
          "name": "stdout",
          "text": [
            "购买这款相机是为了进行摩托车旅行。它比我的旧GoPro好太多了。图像稳定功能非常出色，编辑录像的应用程序也很棒，而且在拍摄后能够进行平移和缩放，这意味着你不必一直担心它的指向。只需录制视频，然后在编辑时决定要关注什么。这样可以使视频更有趣，就像有一个摄影师与你同行，提供各种不同的镜头。隐形自拍杆也非常巧妙，几乎就像有一架无人机跟随着你。我发现我更有可能在当晚编辑录像，而不是回家后要浏览两周的镜头，说实话，我很快就对它们失去了兴趣。\n",
            "\n",
            "电池续航时间令人印象深刻，我在32GB的存储卡上拍摄了大约45分钟的360度视频。这款应用程序直观且易于使用，因此您可以将长镜头剪辑成短小、精彩且有趣的片段，以便稍后合并成更长的视频。它的价格非常昂贵，但我必须承认我认为它物有所值。\n"
          ]
        }
      ]
    },
    {
      "cell_type": "code",
      "source": [
        "service_reply = \"\"\"\n",
        "谢谢您对我们产片的评论。我们很高兴您喜欢我们的产品，我们会继续努力把产品的成本降低。\n",
        "\"\"\""
      ],
      "metadata": {
        "id": "O0XgIbNVZQwM"
      },
      "execution_count": null,
      "outputs": []
    },
    {
      "cell_type": "code",
      "source": [
        "service_style_english = \"\"\"\\\n",
        "a polite tone \\\n",
        "that speaks in American English\\\n",
        "\"\"\""
      ],
      "metadata": {
        "id": "LsbxA5e2ZX4D"
      },
      "execution_count": null,
      "outputs": []
    },
    {
      "cell_type": "code",
      "source": [
        "service_messages = prompt_template.format_messages(\n",
        "    style=service_style_english,\n",
        "    text=service_reply)\n",
        "\n",
        "print(service_messages[0].content)"
      ],
      "metadata": {
        "colab": {
          "base_uri": "https://localhost:8080/"
        },
        "id": "LSk3BGaXZdWR",
        "outputId": "635adf55-7c7d-42fc-96bb-4bb75fde3904"
      },
      "execution_count": null,
      "outputs": [
        {
          "output_type": "stream",
          "name": "stdout",
          "text": [
            "Translate the text that is delimited by triple backticks into a style that is a polite tone that speaks in American English. text: ```\n",
            "谢谢您对我们产片的评论。我们很高兴您喜欢我们的产品，我们会继续努力把产品的成本降低。\n",
            "```\n",
            "\n"
          ]
        }
      ]
    },
    {
      "cell_type": "code",
      "source": [
        "service_response = chat(service_messages)\n",
        "print(service_response.content)"
      ],
      "metadata": {
        "colab": {
          "base_uri": "https://localhost:8080/"
        },
        "id": "MY0Y4G3ZZi-d",
        "outputId": "2e886406-6922-499b-95d4-9221eee1368e"
      },
      "execution_count": null,
      "outputs": [
        {
          "output_type": "stream",
          "name": "stdout",
          "text": [
            "Thank you for your feedback on our product. We are delighted that you like our product, and we will continue to work hard to reduce the cost of our products.\n"
          ]
        }
      ]
    },
    {
      "cell_type": "markdown",
      "source": [
        "##输出解析器"
      ],
      "metadata": {
        "id": "kf6Aito8cmRZ"
      }
    },
    {
      "cell_type": "markdown",
      "source": [
        "首先让我们看看我们希望LLM输出什么格式"
      ],
      "metadata": {
        "id": "th-BYDJJcpWc"
      }
    },
    {
      "cell_type": "code",
      "source": [
        "{\n",
        "  \"礼物\": False,\n",
        "  \"递送时间\": 5,\n",
        "  \"价值\": \"物超所值\"\n",
        "}"
      ],
      "metadata": {
        "colab": {
          "base_uri": "https://localhost:8080/"
        },
        "id": "kWGyCfiEcy48",
        "outputId": "d9a9e910-ea60-4992-83cb-528b877ff263"
      },
      "execution_count": null,
      "outputs": [
        {
          "output_type": "execute_result",
          "data": {
            "text/plain": [
              "{'礼物': False, '递送时间': 5, '价值': '物超所值'}"
            ]
          },
          "metadata": {},
          "execution_count": 34
        }
      ]
    },
    {
      "cell_type": "code",
      "source": [
        "customer_review = \"\"\"\\\n",
        "购买这款相机是为了进行摩托车旅行。它比我的旧GoPro好太多了。\\\n",
        "图像稳定功能非常出色，编辑录像的应用程序也很棒，\\\n",
        "而且在拍摄后能够进行平移和缩放，这意味着你不必一直担心它的指向。\\\n",
        "只需录制视频，然后在编辑时决定要关注什么。\\\n",
        "这样可以使视频更有趣，就像有一个摄影师与你同行，提供各种不同的镜头。\\\n",
        "隐形自拍杆也非常巧妙，几乎就像有一架无人机跟随着你。\\\n",
        "我发现我更有可能在当晚编辑录像，而不是回家后要浏览两周的镜头，说实话，我很快就对它们失去了兴趣。\\\n",
        "\n",
        "电池续航时间令人印象深刻，我在32GB的存储卡上拍摄了大约45分钟的360度视频。\\\n",
        "这款应用程序直观且易于使用，因此您可以将长镜头剪辑成短小、精彩且有趣的片段，\\\n",
        "以便稍后合并成更长的视频。它的价格非常昂贵，但我必须承认我认为它物有所值。\\\n",
        "发货很快，我3天就收到了。\n",
        "\"\"\"\n",
        "\n",
        "review_template = \"\"\"\\\n",
        "对于下面的文字，提取以下信息：\n",
        "\n",
        "礼物：买的产品是送给别人的礼物吗？\\\n",
        "如果是的话就回答 True， 如果不是或不知道就回答 False。\n",
        "\n",
        "递送时间：产品多少天送到的？如果没有这个信息，输出 -1。\n",
        "\n",
        "价值：摘抄关于产品价值和价格的语句，把它们用Python的list表示，多个句子中间用逗号隔开。\n",
        "\n",
        "输出用JSON格式，下面是关键词：\n",
        "礼物\n",
        "递送时间\n",
        "价值\n",
        "文本: {text}\n",
        "\"\"\""
      ],
      "metadata": {
        "id": "DOAWq302dWLg"
      },
      "execution_count": null,
      "outputs": []
    },
    {
      "cell_type": "code",
      "source": [
        "from langchain.prompts import ChatPromptTemplate\n",
        "\n",
        "prompt_template = ChatPromptTemplate.from_template(review_template)\n",
        "print(prompt_template)"
      ],
      "metadata": {
        "colab": {
          "base_uri": "https://localhost:8080/"
        },
        "id": "wtOuT5Ztdiwu",
        "outputId": "bf23d6ad-8d31-4424-c915-43db27bf7c7d"
      },
      "execution_count": null,
      "outputs": [
        {
          "output_type": "stream",
          "name": "stdout",
          "text": [
            "input_variables=['text'] output_parser=None partial_variables={} messages=[HumanMessagePromptTemplate(prompt=PromptTemplate(input_variables=['text'], output_parser=None, partial_variables={}, template='对于下面的文字，提取以下信息：\\n\\n礼物：买的产品是送给别人的礼物吗？如果是的话就回答 True， 如果不是或不知道就回答 False。\\n\\n递送时间：产品多少天送到的？如果没有这个信息，输出 -1。\\n\\n价值：摘抄关于产品价值和价格的语句，把它们用Python的list表示，多个句子中间用逗号隔开。\\n\\n输出用JSON格式，下面是关键词：\\n礼物\\n递送时间\\n价值\\n文本: {text}\\n', template_format='f-string', validate_template=True), additional_kwargs={})]\n"
          ]
        }
      ]
    },
    {
      "cell_type": "code",
      "source": [
        "messages = prompt_template.format_messages(text=customer_review)\n",
        "chat = ChatOpenAI(temperature=0.0)\n",
        "response = chat(messages)\n",
        "print(response.content)"
      ],
      "metadata": {
        "colab": {
          "base_uri": "https://localhost:8080/"
        },
        "id": "qz7y1yr2dqEu",
        "outputId": "5ab8053f-2baf-4c09-cdc8-1c773deb32bf"
      },
      "execution_count": null,
      "outputs": [
        {
          "output_type": "stream",
          "name": "stdout",
          "text": [
            "{\n",
            "  \"礼物\": false,\n",
            "  \"递送时间\": 3,\n",
            "  \"价值\": [\n",
            "    \"它比我的旧GoPro好太多了。\",\n",
            "    \"图像稳定功能非常出色，编辑录像的应用程序也很棒，而且在拍摄后能够进行平移和缩放，这意味着你不必一直担心它的指向。\",\n",
            "    \"只需录制视频，然后在编辑时决定要关注什么。这样可以使视频更有趣，就像有一个摄影师与你同行，提供各种不同的镜头。\",\n",
            "    \"隐形自拍杆也非常巧妙，几乎就像有一架无人机跟随着你。\",\n",
            "    \"电池续航时间令人印象深刻，我在32GB的存储卡上拍摄了大约45分钟的360度视频。\",\n",
            "    \"这款应用程序直观且易于使用，因此您可以将长镜头剪辑成短小、精彩且有趣的片段，以便稍后合并成更长的视频。\",\n",
            "    \"它的价格非常昂贵，但我必须承认我认为它物有所值。\"\n",
            "  ]\n",
            "}\n"
          ]
        }
      ]
    },
    {
      "cell_type": "code",
      "source": [
        "type(response.content)"
      ],
      "metadata": {
        "colab": {
          "base_uri": "https://localhost:8080/"
        },
        "id": "CJKThduldvSo",
        "outputId": "149b91c9-a0a6-4951-c75e-a4b95f83395d"
      },
      "execution_count": null,
      "outputs": [
        {
          "output_type": "execute_result",
          "data": {
            "text/plain": [
              "str"
            ]
          },
          "metadata": {},
          "execution_count": 39
        }
      ]
    },
    {
      "cell_type": "code",
      "source": [
        "# 当你运行这行代码时，会出现错误，\n",
        "# 因为'gift'不是一个字典，\n",
        "# 而是一个字符串。\n",
        "response.content.get('gift')"
      ],
      "metadata": {
        "colab": {
          "base_uri": "https://localhost:8080/",
          "height": 198
        },
        "id": "S8XbOR-7dzwL",
        "outputId": "18d138b7-41b9-4bc5-bc81-07ff56143ac0"
      },
      "execution_count": null,
      "outputs": [
        {
          "output_type": "error",
          "ename": "AttributeError",
          "evalue": "ignored",
          "traceback": [
            "\u001b[0;31m---------------------------------------------------------------------------\u001b[0m",
            "\u001b[0;31mAttributeError\u001b[0m                            Traceback (most recent call last)",
            "\u001b[0;32m<ipython-input-40-0b6f244df733>\u001b[0m in \u001b[0;36m<cell line: 4>\u001b[0;34m()\u001b[0m\n\u001b[1;32m      2\u001b[0m \u001b[0;31m# 因为'gift'不是一个字典，\u001b[0m\u001b[0;34m\u001b[0m\u001b[0;34m\u001b[0m\u001b[0m\n\u001b[1;32m      3\u001b[0m \u001b[0;31m# 而是一个字符串。\u001b[0m\u001b[0;34m\u001b[0m\u001b[0;34m\u001b[0m\u001b[0m\n\u001b[0;32m----> 4\u001b[0;31m \u001b[0mresponse\u001b[0m\u001b[0;34m.\u001b[0m\u001b[0mcontent\u001b[0m\u001b[0;34m.\u001b[0m\u001b[0mget\u001b[0m\u001b[0;34m(\u001b[0m\u001b[0;34m'gift'\u001b[0m\u001b[0;34m)\u001b[0m\u001b[0;34m\u001b[0m\u001b[0;34m\u001b[0m\u001b[0m\n\u001b[0m",
            "\u001b[0;31mAttributeError\u001b[0m: 'str' object has no attribute 'get'"
          ]
        }
      ]
    },
    {
      "cell_type": "markdown",
      "source": [
        "###将LLM输出字符串解析为Python字典。"
      ],
      "metadata": {
        "id": "HqUnQ2Gme9Gq"
      }
    },
    {
      "cell_type": "code",
      "source": [
        "from langchain.output_parsers import ResponseSchema\n",
        "from langchain.output_parsers import StructuredOutputParser"
      ],
      "metadata": {
        "id": "oV28M6ofe_Ws"
      },
      "execution_count": null,
      "outputs": []
    },
    {
      "cell_type": "code",
      "source": [
        "gift_schema = ResponseSchema(name=\"礼物\",\n",
        "                             description=\"买的产品是送给别人的礼物吗？\\\n",
        "                             如果是的话就回答 True， 如果不是或不知道就回答 False。\")\n",
        "delivery_days_schema = ResponseSchema(name=\"递送时间\",\n",
        "                                      description=\"产品多少天送到的？如果没有这个信息，输出 -1\")\n",
        "price_value_schema = ResponseSchema(name=\"价值\",\n",
        "                                    description=\"摘抄关于产品价值和价格的语句，\\\n",
        "                                    把它们用Python的list表示，多个句子中间用逗号隔开。\")\n",
        "\n",
        "response_schemas = [gift_schema,\n",
        "                    delivery_days_schema,\n",
        "                    price_value_schema]"
      ],
      "metadata": {
        "id": "QM3EbnhpfhFF"
      },
      "execution_count": null,
      "outputs": []
    },
    {
      "cell_type": "code",
      "source": [
        "output_parser = StructuredOutputParser.from_response_schemas(response_schemas)"
      ],
      "metadata": {
        "id": "dCZumEDAfmBB"
      },
      "execution_count": null,
      "outputs": []
    },
    {
      "cell_type": "code",
      "source": [
        "format_instructions = output_parser.get_format_instructions()"
      ],
      "metadata": {
        "id": "QGOIFnW0fpuN"
      },
      "execution_count": null,
      "outputs": []
    },
    {
      "cell_type": "code",
      "source": [
        "print(format_instructions)"
      ],
      "metadata": {
        "colab": {
          "base_uri": "https://localhost:8080/"
        },
        "id": "01UabC7dftjw",
        "outputId": "27823e70-e477-4d59-af46-9dfb6f51f61d"
      },
      "execution_count": null,
      "outputs": [
        {
          "output_type": "stream",
          "name": "stdout",
          "text": [
            "The output should be a markdown code snippet formatted in the following schema, including the leading and trailing \"```json\" and \"```\":\n",
            "\n",
            "```json\n",
            "{\n",
            "\t\"礼物\": string  // 买的产品是送给别人的礼物吗？                             如果是的话就回答 True， 如果不是或不知道就回答 False。\n",
            "\t\"递送时间\": string  // 产品多少天送到的？如果没有这个信息，输出 -1\n",
            "\t\"价值\": string  // 摘抄关于产品价值和价格的语句，                                    把它们用Python的list表示，多个句子中间用逗号隔开。\n",
            "}\n",
            "```\n"
          ]
        }
      ]
    },
    {
      "cell_type": "code",
      "source": [
        "review_template_2 = \"\"\"\\\n",
        "对于下面的文字，提取以下信息：\n",
        "\n",
        "礼物：买的产品是送给别人的礼物吗？\\\n",
        "如果是的话就回答 True， 如果不是或不知道就回答 False。\n",
        "\n",
        "递送时间：产品多少天送到的？如果没有这个信息，输出 -1。\n",
        "\n",
        "价值：摘抄关于产品价值和价格的语句，把它们用Python的list表示，多个句子中间用逗号隔开。\n",
        "\n",
        "输出用JSON格式，下面是关键词：\n",
        "礼物\n",
        "递送时间\n",
        "价值\n",
        "文本: {text}\n",
        "\n",
        "{format_instructions}\n",
        "\"\"\"\n",
        "\n",
        "prompt = ChatPromptTemplate.from_template(template=review_template_2)\n",
        "\n",
        "messages = prompt.format_messages(text=customer_review,\n",
        "                                format_instructions=format_instructions)"
      ],
      "metadata": {
        "id": "IK7-QCKZf1_5"
      },
      "execution_count": null,
      "outputs": []
    },
    {
      "cell_type": "code",
      "source": [
        "print(messages[0].content)"
      ],
      "metadata": {
        "colab": {
          "base_uri": "https://localhost:8080/"
        },
        "id": "OMKdFP8lf6PO",
        "outputId": "e41955cc-4101-4841-f762-b73ca239da21"
      },
      "execution_count": null,
      "outputs": [
        {
          "output_type": "stream",
          "name": "stdout",
          "text": [
            "对于下面的文字，提取以下信息：\n",
            "\n",
            "礼物：买的产品是送给别人的礼物吗？如果是的话就回答 True， 如果不是或不知道就回答 False。\n",
            "\n",
            "递送时间：产品多少天送到的？如果没有这个信息，输出 -1。\n",
            "\n",
            "价值：摘抄关于产品价值和价格的语句，把它们用Python的list表示，多个句子中间用逗号隔开。\n",
            "\n",
            "输出用JSON格式，下面是关键词：\n",
            "礼物\n",
            "递送时间\n",
            "价值\n",
            "文本: 购买这款相机是为了进行摩托车旅行。它比我的旧GoPro好太多了。图像稳定功能非常出色，编辑录像的应用程序也很棒，而且在拍摄后能够进行平移和缩放，这意味着你不必一直担心它的指向。只需录制视频，然后在编辑时决定要关注什么。这样可以使视频更有趣，就像有一个摄影师与你同行，提供各种不同的镜头。隐形自拍杆也非常巧妙，几乎就像有一架无人机跟随着你。我发现我更有可能在当晚编辑录像，而不是回家后要浏览两周的镜头，说实话，我很快就对它们失去了兴趣。\n",
            "电池续航时间令人印象深刻，我在32GB的存储卡上拍摄了大约45分钟的360度视频。这款应用程序直观且易于使用，因此您可以将长镜头剪辑成短小、精彩且有趣的片段，以便稍后合并成更长的视频。它的价格非常昂贵，但我必须承认我认为它物有所值。发货很快，我3天就收到了。\n",
            "\n",
            "\n",
            "The output should be a markdown code snippet formatted in the following schema, including the leading and trailing \"```json\" and \"```\":\n",
            "\n",
            "```json\n",
            "{\n",
            "\t\"礼物\": string  // 买的产品是送给别人的礼物吗？                             如果是的话就回答 True， 如果不是或不知道就回答 False。\n",
            "\t\"递送时间\": string  // 产品多少天送到的？如果没有这个信息，输出 -1\n",
            "\t\"价值\": string  // 摘抄关于产品价值和价格的语句，                                    把它们用Python的list表示，多个句子中间用逗号隔开。\n",
            "}\n",
            "```\n",
            "\n"
          ]
        }
      ]
    },
    {
      "cell_type": "code",
      "source": [
        "response = chat(messages)"
      ],
      "metadata": {
        "id": "d7giKqMFi6kw"
      },
      "execution_count": null,
      "outputs": []
    },
    {
      "cell_type": "code",
      "source": [
        "print(response.content)"
      ],
      "metadata": {
        "colab": {
          "base_uri": "https://localhost:8080/"
        },
        "id": "U8ZCjt-Ui_-J",
        "outputId": "d5d0fdb8-90dd-4166-912a-a71837344eb1"
      },
      "execution_count": null,
      "outputs": [
        {
          "output_type": "stream",
          "name": "stdout",
          "text": [
            "```json\n",
            "{\n",
            "\t\"礼物\": false,\n",
            "\t\"递送时间\": \"3\",\n",
            "\t\"价值\": [\"这款应用程序直观且易于使用，因此您可以将长镜头剪辑成短小、精彩且有趣的片段，以便稍后合并成更长的视频。\", \"它的价格非常昂贵，但我必须承认我认为它物有所值。\"]\n",
            "}\n",
            "```\n"
          ]
        }
      ]
    },
    {
      "cell_type": "code",
      "source": [
        "output_dict = output_parser.parse(response.content)"
      ],
      "metadata": {
        "id": "eGNMYqh4jGvQ"
      },
      "execution_count": null,
      "outputs": []
    },
    {
      "cell_type": "code",
      "source": [
        "output_dict"
      ],
      "metadata": {
        "colab": {
          "base_uri": "https://localhost:8080/"
        },
        "id": "FfvAviN8jKyw",
        "outputId": "152cb993-c60b-4373-e124-13f7b87fc3b2"
      },
      "execution_count": null,
      "outputs": [
        {
          "output_type": "execute_result",
          "data": {
            "text/plain": [
              "{'礼物': False,\n",
              " '递送时间': '3',\n",
              " '价值': ['这款应用程序直观且易于使用，因此您可以将长镜头剪辑成短小、精彩且有趣的片段，以便稍后合并成更长的视频。',\n",
              "  '它的价格非常昂贵，但我必须承认我认为它物有所值。']}"
            ]
          },
          "metadata": {},
          "execution_count": 52
        }
      ]
    },
    {
      "cell_type": "code",
      "source": [
        "type(output_dict)"
      ],
      "metadata": {
        "colab": {
          "base_uri": "https://localhost:8080/"
        },
        "id": "W7eyjO_vjMSi",
        "outputId": "f4a70cb5-fa60-40fc-83f3-0cbd29d000e8"
      },
      "execution_count": null,
      "outputs": [
        {
          "output_type": "execute_result",
          "data": {
            "text/plain": [
              "dict"
            ]
          },
          "metadata": {},
          "execution_count": 53
        }
      ]
    },
    {
      "cell_type": "code",
      "source": [
        "output_dict.get('递送时间')"
      ],
      "metadata": {
        "colab": {
          "base_uri": "https://localhost:8080/",
          "height": 37
        },
        "id": "Ikmyso_qjTZ5",
        "outputId": "986b2f96-eb0c-42f9-ed3a-2496047a8f23"
      },
      "execution_count": null,
      "outputs": [
        {
          "output_type": "execute_result",
          "data": {
            "text/plain": [
              "'3'"
            ],
            "application/vnd.google.colaboratory.intrinsic+json": {
              "type": "string"
            }
          },
          "metadata": {},
          "execution_count": 54
        }
      ]
    }
  ]
}